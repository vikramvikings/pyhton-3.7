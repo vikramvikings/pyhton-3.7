{
 "cells": [
  {
   "cell_type": "code",
   "execution_count": 1,
   "metadata": {},
   "outputs": [],
   "source": [
    "import pandas as pd\n",
    "import numpy as np"
   ]
  },
  {
   "cell_type": "code",
   "execution_count": 2,
   "metadata": {},
   "outputs": [
    {
     "data": {
      "text/html": [
       "<div>\n",
       "<style scoped>\n",
       "    .dataframe tbody tr th:only-of-type {\n",
       "        vertical-align: middle;\n",
       "    }\n",
       "\n",
       "    .dataframe tbody tr th {\n",
       "        vertical-align: top;\n",
       "    }\n",
       "\n",
       "    .dataframe thead th {\n",
       "        text-align: right;\n",
       "    }\n",
       "</style>\n",
       "<table border=\"1\" class=\"dataframe\">\n",
       "  <thead>\n",
       "    <tr style=\"text-align: right;\">\n",
       "      <th></th>\n",
       "      <th>Unnamed: 0</th>\n",
       "      <th>Ord_id</th>\n",
       "      <th>Prod_id</th>\n",
       "      <th>Ship_id</th>\n",
       "      <th>Cust_id</th>\n",
       "      <th>Sales</th>\n",
       "      <th>Discount</th>\n",
       "      <th>Order_Quantity</th>\n",
       "      <th>Profit</th>\n",
       "      <th>Shipping_Cost</th>\n",
       "      <th>...</th>\n",
       "      <th>Customer_Name</th>\n",
       "      <th>Province</th>\n",
       "      <th>Region</th>\n",
       "      <th>Customer_Segment</th>\n",
       "      <th>Order_ID_y</th>\n",
       "      <th>Ship_Mode</th>\n",
       "      <th>Ship_Date</th>\n",
       "      <th>Ship_Month</th>\n",
       "      <th>Ship_Year</th>\n",
       "      <th>Duration</th>\n",
       "    </tr>\n",
       "  </thead>\n",
       "  <tbody>\n",
       "    <tr>\n",
       "      <td>0</td>\n",
       "      <td>0</td>\n",
       "      <td>Ord_5446</td>\n",
       "      <td>Prod_16</td>\n",
       "      <td>SHP_7609</td>\n",
       "      <td>Cust_1818</td>\n",
       "      <td>136.81</td>\n",
       "      <td>0.01</td>\n",
       "      <td>23</td>\n",
       "      <td>-30.51</td>\n",
       "      <td>3.60</td>\n",
       "      <td>...</td>\n",
       "      <td>AARON BERGMAN</td>\n",
       "      <td>ALBERTA</td>\n",
       "      <td>WEST</td>\n",
       "      <td>CORPORATE</td>\n",
       "      <td>36262</td>\n",
       "      <td>REGULAR AIR</td>\n",
       "      <td>2010-07-28</td>\n",
       "      <td>7</td>\n",
       "      <td>2010</td>\n",
       "      <td>1 days 00:00:00.000000000</td>\n",
       "    </tr>\n",
       "    <tr>\n",
       "      <td>1</td>\n",
       "      <td>1</td>\n",
       "      <td>Ord_5446</td>\n",
       "      <td>Prod_4</td>\n",
       "      <td>SHP_7610</td>\n",
       "      <td>Cust_1818</td>\n",
       "      <td>4701.69</td>\n",
       "      <td>0.00</td>\n",
       "      <td>26</td>\n",
       "      <td>1148.90</td>\n",
       "      <td>2.50</td>\n",
       "      <td>...</td>\n",
       "      <td>AARON BERGMAN</td>\n",
       "      <td>ALBERTA</td>\n",
       "      <td>WEST</td>\n",
       "      <td>CORPORATE</td>\n",
       "      <td>36262</td>\n",
       "      <td>EXPRESS AIR</td>\n",
       "      <td>2010-07-27</td>\n",
       "      <td>7</td>\n",
       "      <td>2010</td>\n",
       "      <td>0 days 00:00:00.000000000</td>\n",
       "    </tr>\n",
       "    <tr>\n",
       "      <td>2</td>\n",
       "      <td>2</td>\n",
       "      <td>Ord_5446</td>\n",
       "      <td>Prod_6</td>\n",
       "      <td>SHP_7608</td>\n",
       "      <td>Cust_1818</td>\n",
       "      <td>164.02</td>\n",
       "      <td>0.03</td>\n",
       "      <td>23</td>\n",
       "      <td>-47.64</td>\n",
       "      <td>6.15</td>\n",
       "      <td>...</td>\n",
       "      <td>AARON BERGMAN</td>\n",
       "      <td>ALBERTA</td>\n",
       "      <td>WEST</td>\n",
       "      <td>CORPORATE</td>\n",
       "      <td>36262</td>\n",
       "      <td>EXPRESS AIR</td>\n",
       "      <td>2010-07-28</td>\n",
       "      <td>7</td>\n",
       "      <td>2010</td>\n",
       "      <td>1 days 00:00:00.000000000</td>\n",
       "    </tr>\n",
       "    <tr>\n",
       "      <td>3</td>\n",
       "      <td>3</td>\n",
       "      <td>Ord_5406</td>\n",
       "      <td>Prod_13</td>\n",
       "      <td>SHP_7549</td>\n",
       "      <td>Cust_1818</td>\n",
       "      <td>42.27</td>\n",
       "      <td>0.01</td>\n",
       "      <td>13</td>\n",
       "      <td>4.56</td>\n",
       "      <td>0.93</td>\n",
       "      <td>...</td>\n",
       "      <td>AARON BERGMAN</td>\n",
       "      <td>ALBERTA</td>\n",
       "      <td>WEST</td>\n",
       "      <td>CORPORATE</td>\n",
       "      <td>20513</td>\n",
       "      <td>EXPRESS AIR</td>\n",
       "      <td>2009-08-07</td>\n",
       "      <td>8</td>\n",
       "      <td>2009</td>\n",
       "      <td>31 days 00:00:00.000000000</td>\n",
       "    </tr>\n",
       "    <tr>\n",
       "      <td>4</td>\n",
       "      <td>4</td>\n",
       "      <td>Ord_5456</td>\n",
       "      <td>Prod_6</td>\n",
       "      <td>SHP_7625</td>\n",
       "      <td>Cust_1818</td>\n",
       "      <td>2337.89</td>\n",
       "      <td>0.09</td>\n",
       "      <td>43</td>\n",
       "      <td>729.34</td>\n",
       "      <td>14.30</td>\n",
       "      <td>...</td>\n",
       "      <td>AARON BERGMAN</td>\n",
       "      <td>ALBERTA</td>\n",
       "      <td>WEST</td>\n",
       "      <td>CORPORATE</td>\n",
       "      <td>39682</td>\n",
       "      <td>EXPRESS AIR</td>\n",
       "      <td>2010-11-11</td>\n",
       "      <td>11</td>\n",
       "      <td>2010</td>\n",
       "      <td>61 days 00:00:00.000000000</td>\n",
       "    </tr>\n",
       "    <tr>\n",
       "      <td>...</td>\n",
       "      <td>...</td>\n",
       "      <td>...</td>\n",
       "      <td>...</td>\n",
       "      <td>...</td>\n",
       "      <td>...</td>\n",
       "      <td>...</td>\n",
       "      <td>...</td>\n",
       "      <td>...</td>\n",
       "      <td>...</td>\n",
       "      <td>...</td>\n",
       "      <td>...</td>\n",
       "      <td>...</td>\n",
       "      <td>...</td>\n",
       "      <td>...</td>\n",
       "      <td>...</td>\n",
       "      <td>...</td>\n",
       "      <td>...</td>\n",
       "      <td>...</td>\n",
       "      <td>...</td>\n",
       "      <td>...</td>\n",
       "      <td>...</td>\n",
       "    </tr>\n",
       "    <tr>\n",
       "      <td>8394</td>\n",
       "      <td>8394</td>\n",
       "      <td>Ord_973</td>\n",
       "      <td>Prod_8</td>\n",
       "      <td>SHP_1343</td>\n",
       "      <td>Cust_357</td>\n",
       "      <td>29.05</td>\n",
       "      <td>0.08</td>\n",
       "      <td>4</td>\n",
       "      <td>-20.90</td>\n",
       "      <td>4.32</td>\n",
       "      <td>...</td>\n",
       "      <td>THEONE PIPPENGER</td>\n",
       "      <td>BRITISH COLUMBIA</td>\n",
       "      <td>WEST</td>\n",
       "      <td>CORPORATE</td>\n",
       "      <td>40259</td>\n",
       "      <td>EXPRESS AIR</td>\n",
       "      <td>2010-10-13</td>\n",
       "      <td>10</td>\n",
       "      <td>2010</td>\n",
       "      <td>-58 days +00:00:00.000000000</td>\n",
       "    </tr>\n",
       "    <tr>\n",
       "      <td>8395</td>\n",
       "      <td>8395</td>\n",
       "      <td>Ord_1832</td>\n",
       "      <td>Prod_8</td>\n",
       "      <td>SHP_2526</td>\n",
       "      <td>Cust_636</td>\n",
       "      <td>57.03</td>\n",
       "      <td>0.00</td>\n",
       "      <td>7</td>\n",
       "      <td>-31.38</td>\n",
       "      <td>3.52</td>\n",
       "      <td>...</td>\n",
       "      <td>TOM PRESCOTT</td>\n",
       "      <td>NEWFOUNDLAND</td>\n",
       "      <td>ATLANTIC</td>\n",
       "      <td>SMALL BUSINESS</td>\n",
       "      <td>36230</td>\n",
       "      <td>REGULAR AIR</td>\n",
       "      <td>2009-10-06</td>\n",
       "      <td>10</td>\n",
       "      <td>2009</td>\n",
       "      <td>0 days 00:00:00.000000000</td>\n",
       "    </tr>\n",
       "    <tr>\n",
       "      <td>8396</td>\n",
       "      <td>8396</td>\n",
       "      <td>Ord_2010</td>\n",
       "      <td>Prod_8</td>\n",
       "      <td>SHP_2748</td>\n",
       "      <td>Cust_760</td>\n",
       "      <td>282.58</td>\n",
       "      <td>0.10</td>\n",
       "      <td>36</td>\n",
       "      <td>21.68</td>\n",
       "      <td>1.99</td>\n",
       "      <td>...</td>\n",
       "      <td>TRACY PODDAR</td>\n",
       "      <td>NOVA SCOTIA</td>\n",
       "      <td>ATLANTIC</td>\n",
       "      <td>CORPORATE</td>\n",
       "      <td>18534</td>\n",
       "      <td>EXPRESS AIR</td>\n",
       "      <td>2011-12-30</td>\n",
       "      <td>12</td>\n",
       "      <td>2011</td>\n",
       "      <td>0 days 00:00:00.000000000</td>\n",
       "    </tr>\n",
       "    <tr>\n",
       "      <td>8397</td>\n",
       "      <td>8397</td>\n",
       "      <td>Ord_2988</td>\n",
       "      <td>Prod_14</td>\n",
       "      <td>SHP_4132</td>\n",
       "      <td>Cust_1105</td>\n",
       "      <td>9262.35</td>\n",
       "      <td>0.09</td>\n",
       "      <td>47</td>\n",
       "      <td>2787.59</td>\n",
       "      <td>24.49</td>\n",
       "      <td>...</td>\n",
       "      <td>BECKY MARTIN</td>\n",
       "      <td>ONTARIO</td>\n",
       "      <td>ONTARIO</td>\n",
       "      <td>HOME OFFICE</td>\n",
       "      <td>23616</td>\n",
       "      <td>REGULAR AIR</td>\n",
       "      <td>2012-08-28</td>\n",
       "      <td>8</td>\n",
       "      <td>2012</td>\n",
       "      <td>0 days 00:00:00.000000000</td>\n",
       "    </tr>\n",
       "    <tr>\n",
       "      <td>8398</td>\n",
       "      <td>8398</td>\n",
       "      <td>Ord_1096</td>\n",
       "      <td>Prod_14</td>\n",
       "      <td>SHP_1512</td>\n",
       "      <td>Cust_423</td>\n",
       "      <td>2222.61</td>\n",
       "      <td>0.02</td>\n",
       "      <td>3</td>\n",
       "      <td>196.08</td>\n",
       "      <td>24.49</td>\n",
       "      <td>...</td>\n",
       "      <td>LYCORIS SAUNDERS</td>\n",
       "      <td>ONTARIO</td>\n",
       "      <td>ONTARIO</td>\n",
       "      <td>HOME OFFICE</td>\n",
       "      <td>38693</td>\n",
       "      <td>REGULAR AIR</td>\n",
       "      <td>2011-06-21</td>\n",
       "      <td>6</td>\n",
       "      <td>2011</td>\n",
       "      <td>7 days 00:00:00.000000000</td>\n",
       "    </tr>\n",
       "  </tbody>\n",
       "</table>\n",
       "<p>8399 rows × 28 columns</p>\n",
       "</div>"
      ],
      "text/plain": [
       "      Unnamed: 0    Ord_id  Prod_id   Ship_id    Cust_id    Sales  Discount  \\\n",
       "0              0  Ord_5446  Prod_16  SHP_7609  Cust_1818   136.81      0.01   \n",
       "1              1  Ord_5446   Prod_4  SHP_7610  Cust_1818  4701.69      0.00   \n",
       "2              2  Ord_5446   Prod_6  SHP_7608  Cust_1818   164.02      0.03   \n",
       "3              3  Ord_5406  Prod_13  SHP_7549  Cust_1818    42.27      0.01   \n",
       "4              4  Ord_5456   Prod_6  SHP_7625  Cust_1818  2337.89      0.09   \n",
       "...          ...       ...      ...       ...        ...      ...       ...   \n",
       "8394        8394   Ord_973   Prod_8  SHP_1343   Cust_357    29.05      0.08   \n",
       "8395        8395  Ord_1832   Prod_8  SHP_2526   Cust_636    57.03      0.00   \n",
       "8396        8396  Ord_2010   Prod_8  SHP_2748   Cust_760   282.58      0.10   \n",
       "8397        8397  Ord_2988  Prod_14  SHP_4132  Cust_1105  9262.35      0.09   \n",
       "8398        8398  Ord_1096  Prod_14  SHP_1512   Cust_423  2222.61      0.02   \n",
       "\n",
       "      Order_Quantity   Profit  Shipping_Cost  ...     Customer_Name  \\\n",
       "0                 23   -30.51           3.60  ...     AARON BERGMAN   \n",
       "1                 26  1148.90           2.50  ...     AARON BERGMAN   \n",
       "2                 23   -47.64           6.15  ...     AARON BERGMAN   \n",
       "3                 13     4.56           0.93  ...     AARON BERGMAN   \n",
       "4                 43   729.34          14.30  ...     AARON BERGMAN   \n",
       "...              ...      ...            ...  ...               ...   \n",
       "8394               4   -20.90           4.32  ...  THEONE PIPPENGER   \n",
       "8395               7   -31.38           3.52  ...      TOM PRESCOTT   \n",
       "8396              36    21.68           1.99  ...      TRACY PODDAR   \n",
       "8397              47  2787.59          24.49  ...      BECKY MARTIN   \n",
       "8398               3   196.08          24.49  ...  LYCORIS SAUNDERS   \n",
       "\n",
       "              Province    Region  Customer_Segment Order_ID_y    Ship_Mode  \\\n",
       "0              ALBERTA      WEST         CORPORATE      36262  REGULAR AIR   \n",
       "1              ALBERTA      WEST         CORPORATE      36262  EXPRESS AIR   \n",
       "2              ALBERTA      WEST         CORPORATE      36262  EXPRESS AIR   \n",
       "3              ALBERTA      WEST         CORPORATE      20513  EXPRESS AIR   \n",
       "4              ALBERTA      WEST         CORPORATE      39682  EXPRESS AIR   \n",
       "...                ...       ...               ...        ...          ...   \n",
       "8394  BRITISH COLUMBIA      WEST         CORPORATE      40259  EXPRESS AIR   \n",
       "8395      NEWFOUNDLAND  ATLANTIC    SMALL BUSINESS      36230  REGULAR AIR   \n",
       "8396       NOVA SCOTIA  ATLANTIC         CORPORATE      18534  EXPRESS AIR   \n",
       "8397           ONTARIO   ONTARIO       HOME OFFICE      23616  REGULAR AIR   \n",
       "8398           ONTARIO   ONTARIO       HOME OFFICE      38693  REGULAR AIR   \n",
       "\n",
       "       Ship_Date  Ship_Month Ship_Year                      Duration  \n",
       "0     2010-07-28           7      2010     1 days 00:00:00.000000000  \n",
       "1     2010-07-27           7      2010     0 days 00:00:00.000000000  \n",
       "2     2010-07-28           7      2010     1 days 00:00:00.000000000  \n",
       "3     2009-08-07           8      2009    31 days 00:00:00.000000000  \n",
       "4     2010-11-11          11      2010    61 days 00:00:00.000000000  \n",
       "...          ...         ...       ...                           ...  \n",
       "8394  2010-10-13          10      2010  -58 days +00:00:00.000000000  \n",
       "8395  2009-10-06          10      2009     0 days 00:00:00.000000000  \n",
       "8396  2011-12-30          12      2011     0 days 00:00:00.000000000  \n",
       "8397  2012-08-28           8      2012     0 days 00:00:00.000000000  \n",
       "8398  2011-06-21           6      2011     7 days 00:00:00.000000000  \n",
       "\n",
       "[8399 rows x 28 columns]"
      ]
     },
     "execution_count": 2,
     "metadata": {},
     "output_type": "execute_result"
    }
   ],
   "source": [
    "master_df=pd.read_csv(\"https://raw.githubusercontent.com/sumathi16/Machine-Learning-with-Python/master/data/global_sales_data/master.csv\")\n",
    "master_df"
   ]
  },
  {
   "cell_type": "code",
   "execution_count": 8,
   "metadata": {},
   "outputs": [
    {
     "ename": "KeyError",
     "evalue": "\"['Unnamed: 0'] not found in axis\"",
     "output_type": "error",
     "traceback": [
      "\u001b[1;31m---------------------------------------------------------------------------\u001b[0m",
      "\u001b[1;31mKeyError\u001b[0m                                  Traceback (most recent call last)",
      "\u001b[1;32m<ipython-input-8-3cb109f12b02>\u001b[0m in \u001b[0;36m<module>\u001b[1;34m\u001b[0m\n\u001b[1;32m----> 1\u001b[1;33m \u001b[0mmaster_df\u001b[0m\u001b[1;33m.\u001b[0m\u001b[0mdrop\u001b[0m\u001b[1;33m(\u001b[0m\u001b[1;34m\"Unnamed: 0\"\u001b[0m\u001b[1;33m,\u001b[0m\u001b[0maxis\u001b[0m\u001b[1;33m=\u001b[0m \u001b[1;36m1\u001b[0m\u001b[1;33m,\u001b[0m \u001b[0minplace\u001b[0m\u001b[1;33m=\u001b[0m \u001b[1;32mTrue\u001b[0m\u001b[1;33m)\u001b[0m\u001b[1;33m\u001b[0m\u001b[1;33m\u001b[0m\u001b[0m\n\u001b[0m\u001b[0;32m      2\u001b[0m \u001b[0mmaster_df\u001b[0m\u001b[1;33m\u001b[0m\u001b[1;33m\u001b[0m\u001b[0m\n",
      "\u001b[1;32m~\\Anaconda3\\lib\\site-packages\\pandas\\core\\frame.py\u001b[0m in \u001b[0;36mdrop\u001b[1;34m(self, labels, axis, index, columns, level, inplace, errors)\u001b[0m\n\u001b[0;32m   4100\u001b[0m             \u001b[0mlevel\u001b[0m\u001b[1;33m=\u001b[0m\u001b[0mlevel\u001b[0m\u001b[1;33m,\u001b[0m\u001b[1;33m\u001b[0m\u001b[1;33m\u001b[0m\u001b[0m\n\u001b[0;32m   4101\u001b[0m             \u001b[0minplace\u001b[0m\u001b[1;33m=\u001b[0m\u001b[0minplace\u001b[0m\u001b[1;33m,\u001b[0m\u001b[1;33m\u001b[0m\u001b[1;33m\u001b[0m\u001b[0m\n\u001b[1;32m-> 4102\u001b[1;33m             \u001b[0merrors\u001b[0m\u001b[1;33m=\u001b[0m\u001b[0merrors\u001b[0m\u001b[1;33m,\u001b[0m\u001b[1;33m\u001b[0m\u001b[1;33m\u001b[0m\u001b[0m\n\u001b[0m\u001b[0;32m   4103\u001b[0m         )\n\u001b[0;32m   4104\u001b[0m \u001b[1;33m\u001b[0m\u001b[0m\n",
      "\u001b[1;32m~\\Anaconda3\\lib\\site-packages\\pandas\\core\\generic.py\u001b[0m in \u001b[0;36mdrop\u001b[1;34m(self, labels, axis, index, columns, level, inplace, errors)\u001b[0m\n\u001b[0;32m   3912\u001b[0m         \u001b[1;32mfor\u001b[0m \u001b[0maxis\u001b[0m\u001b[1;33m,\u001b[0m \u001b[0mlabels\u001b[0m \u001b[1;32min\u001b[0m \u001b[0maxes\u001b[0m\u001b[1;33m.\u001b[0m\u001b[0mitems\u001b[0m\u001b[1;33m(\u001b[0m\u001b[1;33m)\u001b[0m\u001b[1;33m:\u001b[0m\u001b[1;33m\u001b[0m\u001b[1;33m\u001b[0m\u001b[0m\n\u001b[0;32m   3913\u001b[0m             \u001b[1;32mif\u001b[0m \u001b[0mlabels\u001b[0m \u001b[1;32mis\u001b[0m \u001b[1;32mnot\u001b[0m \u001b[1;32mNone\u001b[0m\u001b[1;33m:\u001b[0m\u001b[1;33m\u001b[0m\u001b[1;33m\u001b[0m\u001b[0m\n\u001b[1;32m-> 3914\u001b[1;33m                 \u001b[0mobj\u001b[0m \u001b[1;33m=\u001b[0m \u001b[0mobj\u001b[0m\u001b[1;33m.\u001b[0m\u001b[0m_drop_axis\u001b[0m\u001b[1;33m(\u001b[0m\u001b[0mlabels\u001b[0m\u001b[1;33m,\u001b[0m \u001b[0maxis\u001b[0m\u001b[1;33m,\u001b[0m \u001b[0mlevel\u001b[0m\u001b[1;33m=\u001b[0m\u001b[0mlevel\u001b[0m\u001b[1;33m,\u001b[0m \u001b[0merrors\u001b[0m\u001b[1;33m=\u001b[0m\u001b[0merrors\u001b[0m\u001b[1;33m)\u001b[0m\u001b[1;33m\u001b[0m\u001b[1;33m\u001b[0m\u001b[0m\n\u001b[0m\u001b[0;32m   3915\u001b[0m \u001b[1;33m\u001b[0m\u001b[0m\n\u001b[0;32m   3916\u001b[0m         \u001b[1;32mif\u001b[0m \u001b[0minplace\u001b[0m\u001b[1;33m:\u001b[0m\u001b[1;33m\u001b[0m\u001b[1;33m\u001b[0m\u001b[0m\n",
      "\u001b[1;32m~\\Anaconda3\\lib\\site-packages\\pandas\\core\\generic.py\u001b[0m in \u001b[0;36m_drop_axis\u001b[1;34m(self, labels, axis, level, errors)\u001b[0m\n\u001b[0;32m   3944\u001b[0m                 \u001b[0mnew_axis\u001b[0m \u001b[1;33m=\u001b[0m \u001b[0maxis\u001b[0m\u001b[1;33m.\u001b[0m\u001b[0mdrop\u001b[0m\u001b[1;33m(\u001b[0m\u001b[0mlabels\u001b[0m\u001b[1;33m,\u001b[0m \u001b[0mlevel\u001b[0m\u001b[1;33m=\u001b[0m\u001b[0mlevel\u001b[0m\u001b[1;33m,\u001b[0m \u001b[0merrors\u001b[0m\u001b[1;33m=\u001b[0m\u001b[0merrors\u001b[0m\u001b[1;33m)\u001b[0m\u001b[1;33m\u001b[0m\u001b[1;33m\u001b[0m\u001b[0m\n\u001b[0;32m   3945\u001b[0m             \u001b[1;32melse\u001b[0m\u001b[1;33m:\u001b[0m\u001b[1;33m\u001b[0m\u001b[1;33m\u001b[0m\u001b[0m\n\u001b[1;32m-> 3946\u001b[1;33m                 \u001b[0mnew_axis\u001b[0m \u001b[1;33m=\u001b[0m \u001b[0maxis\u001b[0m\u001b[1;33m.\u001b[0m\u001b[0mdrop\u001b[0m\u001b[1;33m(\u001b[0m\u001b[0mlabels\u001b[0m\u001b[1;33m,\u001b[0m \u001b[0merrors\u001b[0m\u001b[1;33m=\u001b[0m\u001b[0merrors\u001b[0m\u001b[1;33m)\u001b[0m\u001b[1;33m\u001b[0m\u001b[1;33m\u001b[0m\u001b[0m\n\u001b[0m\u001b[0;32m   3947\u001b[0m             \u001b[0mresult\u001b[0m \u001b[1;33m=\u001b[0m \u001b[0mself\u001b[0m\u001b[1;33m.\u001b[0m\u001b[0mreindex\u001b[0m\u001b[1;33m(\u001b[0m\u001b[1;33m**\u001b[0m\u001b[1;33m{\u001b[0m\u001b[0maxis_name\u001b[0m\u001b[1;33m:\u001b[0m \u001b[0mnew_axis\u001b[0m\u001b[1;33m}\u001b[0m\u001b[1;33m)\u001b[0m\u001b[1;33m\u001b[0m\u001b[1;33m\u001b[0m\u001b[0m\n\u001b[0;32m   3948\u001b[0m \u001b[1;33m\u001b[0m\u001b[0m\n",
      "\u001b[1;32m~\\Anaconda3\\lib\\site-packages\\pandas\\core\\indexes\\base.py\u001b[0m in \u001b[0;36mdrop\u001b[1;34m(self, labels, errors)\u001b[0m\n\u001b[0;32m   5338\u001b[0m         \u001b[1;32mif\u001b[0m \u001b[0mmask\u001b[0m\u001b[1;33m.\u001b[0m\u001b[0many\u001b[0m\u001b[1;33m(\u001b[0m\u001b[1;33m)\u001b[0m\u001b[1;33m:\u001b[0m\u001b[1;33m\u001b[0m\u001b[1;33m\u001b[0m\u001b[0m\n\u001b[0;32m   5339\u001b[0m             \u001b[1;32mif\u001b[0m \u001b[0merrors\u001b[0m \u001b[1;33m!=\u001b[0m \u001b[1;34m\"ignore\"\u001b[0m\u001b[1;33m:\u001b[0m\u001b[1;33m\u001b[0m\u001b[1;33m\u001b[0m\u001b[0m\n\u001b[1;32m-> 5340\u001b[1;33m                 \u001b[1;32mraise\u001b[0m \u001b[0mKeyError\u001b[0m\u001b[1;33m(\u001b[0m\u001b[1;34m\"{} not found in axis\"\u001b[0m\u001b[1;33m.\u001b[0m\u001b[0mformat\u001b[0m\u001b[1;33m(\u001b[0m\u001b[0mlabels\u001b[0m\u001b[1;33m[\u001b[0m\u001b[0mmask\u001b[0m\u001b[1;33m]\u001b[0m\u001b[1;33m)\u001b[0m\u001b[1;33m)\u001b[0m\u001b[1;33m\u001b[0m\u001b[1;33m\u001b[0m\u001b[0m\n\u001b[0m\u001b[0;32m   5341\u001b[0m             \u001b[0mindexer\u001b[0m \u001b[1;33m=\u001b[0m \u001b[0mindexer\u001b[0m\u001b[1;33m[\u001b[0m\u001b[1;33m~\u001b[0m\u001b[0mmask\u001b[0m\u001b[1;33m]\u001b[0m\u001b[1;33m\u001b[0m\u001b[1;33m\u001b[0m\u001b[0m\n\u001b[0;32m   5342\u001b[0m         \u001b[1;32mreturn\u001b[0m \u001b[0mself\u001b[0m\u001b[1;33m.\u001b[0m\u001b[0mdelete\u001b[0m\u001b[1;33m(\u001b[0m\u001b[0mindexer\u001b[0m\u001b[1;33m)\u001b[0m\u001b[1;33m\u001b[0m\u001b[1;33m\u001b[0m\u001b[0m\n",
      "\u001b[1;31mKeyError\u001b[0m: \"['Unnamed: 0'] not found in axis\""
     ]
    }
   ],
   "source": [
    "master_df.drop(\"Unnamed: 0\",axis= 1, inplace= True)\n",
    "master_df"
   ]
  },
  {
   "cell_type": "code",
   "execution_count": 9,
   "metadata": {},
   "outputs": [
    {
     "data": {
      "text/plain": [
       "Index(['Ord_id', 'Prod_id', 'Ship_id', 'Cust_id', 'Sales', 'Discount',\n",
       "       'Order_Quantity', 'Profit', 'Shipping_Cost', 'Product_Base_Margin',\n",
       "       'Product_Category', 'Product_Sub_Category', 'Order_ID_x', 'Order_Date',\n",
       "       'Order_Priority', 'Order_Month', 'Order_Year', 'Customer_Name',\n",
       "       'Province', 'Region', 'Customer_Segment', 'Order_ID_y', 'Ship_Mode',\n",
       "       'Ship_Date', 'Ship_Month', 'Ship_Year', 'Duration'],\n",
       "      dtype='object')"
      ]
     },
     "execution_count": 9,
     "metadata": {},
     "output_type": "execute_result"
    }
   ],
   "source": [
    "master_df.columns"
   ]
  },
  {
   "cell_type": "code",
   "execution_count": 10,
   "metadata": {},
   "outputs": [
    {
     "data": {
      "text/plain": [
       "4"
      ]
     },
     "execution_count": 10,
     "metadata": {},
     "output_type": "execute_result"
    }
   ],
   "source": [
    "master_df.Customer_Segment.nunique()"
   ]
  },
  {
   "cell_type": "code",
   "execution_count": 11,
   "metadata": {},
   "outputs": [
    {
     "data": {
      "text/plain": [
       "CORPORATE         3076\n",
       "HOME OFFICE       2032\n",
       "CONSUMER          1649\n",
       "SMALL BUSINESS    1642\n",
       "Name: Customer_Segment, dtype: int64"
      ]
     },
     "execution_count": 11,
     "metadata": {},
     "output_type": "execute_result"
    }
   ],
   "source": [
    "master_df.Customer_Segment.value_counts()"
   ]
  },
  {
   "cell_type": "code",
   "execution_count": 25,
   "metadata": {},
   "outputs": [
    {
     "data": {
      "text/plain": [
       "5498904.8774999995"
      ]
     },
     "execution_count": 25,
     "metadata": {},
     "output_type": "execute_result"
    }
   ],
   "source": [
    "(master_df['Sales'][master_df.Customer_Segment=='CORPORATE']).sum()"
   ]
  },
  {
   "cell_type": "code",
   "execution_count": 19,
   "metadata": {},
   "outputs": [
    {
     "data": {
      "text/plain": [
       "Index(['CORPORATE', 'HOME OFFICE', 'CONSUMER', 'SMALL BUSINESS'], dtype='object')"
      ]
     },
     "execution_count": 19,
     "metadata": {},
     "output_type": "execute_result"
    }
   ],
   "source": [
    "master_df.Customer_Segment.value_counts().index"
   ]
  },
  {
   "cell_type": "code",
   "execution_count": 42,
   "metadata": {},
   "outputs": [],
   "source": [
    "segments=master_df.Customer_Segment.value_counts().index"
   ]
  },
  {
   "cell_type": "code",
   "execution_count": 43,
   "metadata": {},
   "outputs": [
    {
     "data": {
      "text/plain": [
       "[5498904.8774999995, 3564763.875, 3063611.082, 2788320.9895]"
      ]
     },
     "execution_count": 43,
     "metadata": {},
     "output_type": "execute_result"
    }
   ],
   "source": [
    "Sales_Segments=[]\n",
    "for segment in segments:\n",
    "    Sales_Segments.append((master_df['Sales'][master_df.Customer_Segment==segment]).sum())\n",
    "Sales_Segments"
   ]
  },
  {
   "cell_type": "code",
   "execution_count": 47,
   "metadata": {},
   "outputs": [
    {
     "data": {
      "text/plain": [
       "CORPORATE         5.498905e+06\n",
       "HOME OFFICE       3.564764e+06\n",
       "CONSUMER          3.063611e+06\n",
       "SMALL BUSINESS    2.788321e+06\n",
       "dtype: float64"
      ]
     },
     "execution_count": 47,
     "metadata": {},
     "output_type": "execute_result"
    }
   ],
   "source": [
    "pd.Series(Sales_Segments,segments)"
   ]
  },
  {
   "cell_type": "code",
   "execution_count": 49,
   "metadata": {},
   "outputs": [
    {
     "data": {
      "text/plain": [
       "CORPORATE         5.498905e+06\n",
       "HOME OFFICE       3.564764e+06\n",
       "CONSUMER          3.063611e+06\n",
       "SMALL BUSINESS    2.788321e+06\n",
       "dtype: float64"
      ]
     },
     "execution_count": 49,
     "metadata": {},
     "output_type": "execute_result"
    }
   ],
   "source": [
    "Sales_Segments=pd.Series(Sales_Segments,segments)\n",
    "Sales_Segments"
   ]
  },
  {
   "cell_type": "code",
   "execution_count": 50,
   "metadata": {},
   "outputs": [
    {
     "data": {
      "text/plain": [
       "'CORPORATE'"
      ]
     },
     "execution_count": 50,
     "metadata": {},
     "output_type": "execute_result"
    }
   ],
   "source": [
    "Sales_Segments.idxmax()"
   ]
  },
  {
   "cell_type": "code",
   "execution_count": 54,
   "metadata": {},
   "outputs": [
    {
     "data": {
      "text/plain": [
       "Customer_Segment\n",
       "CONSUMER          3.063611e+06\n",
       "CORPORATE         5.498905e+06\n",
       "HOME OFFICE       3.564764e+06\n",
       "SMALL BUSINESS    2.788321e+06\n",
       "Name: Sales, dtype: float64"
      ]
     },
     "execution_count": 54,
     "metadata": {},
     "output_type": "execute_result"
    }
   ],
   "source": [
    "master_df_cust=master_df.groupby('Customer_Segment')\n",
    "master_df_cust.Sales.sum()"
   ]
  },
  {
   "cell_type": "code",
   "execution_count": 63,
   "metadata": {},
   "outputs": [
    {
     "data": {
      "text/plain": [
       "Customer_Segment\n",
       "CONSUMER          3.063611e+06\n",
       "CORPORATE         5.498905e+06\n",
       "HOME OFFICE       3.564764e+06\n",
       "SMALL BUSINESS    2.788321e+06\n",
       "Name: Sales, dtype: float64"
      ]
     },
     "execution_count": 63,
     "metadata": {},
     "output_type": "execute_result"
    }
   ],
   "source": [
    "master_df.groupby('Customer_Segment').Sales.sum()"
   ]
  },
  {
   "cell_type": "code",
   "execution_count": 64,
   "metadata": {},
   "outputs": [
    {
     "data": {
      "text/plain": [
       "Customer_Segment\n",
       "CONSUMER          3.063611e+06\n",
       "CORPORATE         5.498905e+06\n",
       "HOME OFFICE       3.564764e+06\n",
       "SMALL BUSINESS    2.788321e+06\n",
       "Name: Sales, dtype: float64"
      ]
     },
     "execution_count": 64,
     "metadata": {},
     "output_type": "execute_result"
    }
   ],
   "source": [
    "master_df.groupby('Customer_Segment')['Sales'].sum()"
   ]
  },
  {
   "cell_type": "code",
   "execution_count": 65,
   "metadata": {},
   "outputs": [
    {
     "data": {
      "text/plain": [
       "'SMALL BUSINESS'"
      ]
     },
     "execution_count": 65,
     "metadata": {},
     "output_type": "execute_result"
    }
   ],
   "source": [
    "master_df_cust.Sales.mean().idxmin()"
   ]
  },
  {
   "cell_type": "code",
   "execution_count": 66,
   "metadata": {},
   "outputs": [
    {
     "data": {
      "text/plain": [
       "Customer_Segment\n",
       "CONSUMER          1857.859965\n",
       "CORPORATE         1787.680389\n",
       "HOME OFFICE       1754.312931\n",
       "SMALL BUSINESS    1698.124841\n",
       "Name: Sales, dtype: float64"
      ]
     },
     "execution_count": 66,
     "metadata": {},
     "output_type": "execute_result"
    }
   ],
   "source": [
    "master_df_cust.Sales.mean()"
   ]
  },
  {
   "cell_type": "code",
   "execution_count": 67,
   "metadata": {},
   "outputs": [
    {
     "data": {
      "text/html": [
       "<div>\n",
       "<style scoped>\n",
       "    .dataframe tbody tr th:only-of-type {\n",
       "        vertical-align: middle;\n",
       "    }\n",
       "\n",
       "    .dataframe tbody tr th {\n",
       "        vertical-align: top;\n",
       "    }\n",
       "\n",
       "    .dataframe thead th {\n",
       "        text-align: right;\n",
       "    }\n",
       "</style>\n",
       "<table border=\"1\" class=\"dataframe\">\n",
       "  <thead>\n",
       "    <tr style=\"text-align: right;\">\n",
       "      <th></th>\n",
       "      <th>Sales</th>\n",
       "      <th>Discount</th>\n",
       "      <th>Order_Quantity</th>\n",
       "      <th>Profit</th>\n",
       "      <th>Shipping_Cost</th>\n",
       "      <th>Product_Base_Margin</th>\n",
       "      <th>Order_ID_x</th>\n",
       "      <th>Order_Month</th>\n",
       "      <th>Order_Year</th>\n",
       "      <th>Order_ID_y</th>\n",
       "      <th>Ship_Month</th>\n",
       "      <th>Ship_Year</th>\n",
       "    </tr>\n",
       "    <tr>\n",
       "      <th>Customer_Segment</th>\n",
       "      <th></th>\n",
       "      <th></th>\n",
       "      <th></th>\n",
       "      <th></th>\n",
       "      <th></th>\n",
       "      <th></th>\n",
       "      <th></th>\n",
       "      <th></th>\n",
       "      <th></th>\n",
       "      <th></th>\n",
       "      <th></th>\n",
       "      <th></th>\n",
       "    </tr>\n",
       "  </thead>\n",
       "  <tbody>\n",
       "    <tr>\n",
       "      <td>CONSUMER</td>\n",
       "      <td>1857.859965</td>\n",
       "      <td>0.049903</td>\n",
       "      <td>25.324439</td>\n",
       "      <td>174.627010</td>\n",
       "      <td>13.024748</td>\n",
       "      <td>0.512905</td>\n",
       "      <td>29651.300788</td>\n",
       "      <td>6.588842</td>\n",
       "      <td>2010.428745</td>\n",
       "      <td>29651.300788</td>\n",
       "      <td>6.548211</td>\n",
       "      <td>2010.434203</td>\n",
       "    </tr>\n",
       "    <tr>\n",
       "      <td>CORPORATE</td>\n",
       "      <td>1787.680389</td>\n",
       "      <td>0.049841</td>\n",
       "      <td>25.525683</td>\n",
       "      <td>194.975943</td>\n",
       "      <td>12.698911</td>\n",
       "      <td>0.512783</td>\n",
       "      <td>29526.969766</td>\n",
       "      <td>6.560143</td>\n",
       "      <td>2010.500325</td>\n",
       "      <td>29526.969766</td>\n",
       "      <td>6.561118</td>\n",
       "      <td>2010.505202</td>\n",
       "    </tr>\n",
       "    <tr>\n",
       "      <td>HOME OFFICE</td>\n",
       "      <td>1754.312931</td>\n",
       "      <td>0.049444</td>\n",
       "      <td>25.987697</td>\n",
       "      <td>156.670290</td>\n",
       "      <td>12.771757</td>\n",
       "      <td>0.513608</td>\n",
       "      <td>30227.655020</td>\n",
       "      <td>6.528051</td>\n",
       "      <td>2010.504429</td>\n",
       "      <td>30227.655020</td>\n",
       "      <td>6.553150</td>\n",
       "      <td>2010.507874</td>\n",
       "    </tr>\n",
       "    <tr>\n",
       "      <td>SMALL BUSINESS</td>\n",
       "      <td>1698.124841</td>\n",
       "      <td>0.049403</td>\n",
       "      <td>25.391596</td>\n",
       "      <td>192.270408</td>\n",
       "      <td>12.995840</td>\n",
       "      <td>0.510258</td>\n",
       "      <td>30776.489647</td>\n",
       "      <td>6.709501</td>\n",
       "      <td>2010.476248</td>\n",
       "      <td>30776.489647</td>\n",
       "      <td>6.584653</td>\n",
       "      <td>2010.482948</td>\n",
       "    </tr>\n",
       "  </tbody>\n",
       "</table>\n",
       "</div>"
      ],
      "text/plain": [
       "                        Sales  Discount  Order_Quantity      Profit  \\\n",
       "Customer_Segment                                                      \n",
       "CONSUMER          1857.859965  0.049903       25.324439  174.627010   \n",
       "CORPORATE         1787.680389  0.049841       25.525683  194.975943   \n",
       "HOME OFFICE       1754.312931  0.049444       25.987697  156.670290   \n",
       "SMALL BUSINESS    1698.124841  0.049403       25.391596  192.270408   \n",
       "\n",
       "                  Shipping_Cost  Product_Base_Margin    Order_ID_x  \\\n",
       "Customer_Segment                                                     \n",
       "CONSUMER              13.024748             0.512905  29651.300788   \n",
       "CORPORATE             12.698911             0.512783  29526.969766   \n",
       "HOME OFFICE           12.771757             0.513608  30227.655020   \n",
       "SMALL BUSINESS        12.995840             0.510258  30776.489647   \n",
       "\n",
       "                  Order_Month   Order_Year    Order_ID_y  Ship_Month  \\\n",
       "Customer_Segment                                                       \n",
       "CONSUMER             6.588842  2010.428745  29651.300788    6.548211   \n",
       "CORPORATE            6.560143  2010.500325  29526.969766    6.561118   \n",
       "HOME OFFICE          6.528051  2010.504429  30227.655020    6.553150   \n",
       "SMALL BUSINESS       6.709501  2010.476248  30776.489647    6.584653   \n",
       "\n",
       "                    Ship_Year  \n",
       "Customer_Segment               \n",
       "CONSUMER          2010.434203  \n",
       "CORPORATE         2010.505202  \n",
       "HOME OFFICE       2010.507874  \n",
       "SMALL BUSINESS    2010.482948  "
      ]
     },
     "execution_count": 67,
     "metadata": {},
     "output_type": "execute_result"
    }
   ],
   "source": [
    "master_df_cust.mean()"
   ]
  },
  {
   "cell_type": "markdown",
   "metadata": {},
   "source": [
    "# In which product subcategory we have lost profit"
   ]
  },
  {
   "cell_type": "code",
   "execution_count": 69,
   "metadata": {},
   "outputs": [
    {
     "data": {
      "text/plain": [
       "'TABLES'"
      ]
     },
     "execution_count": 69,
     "metadata": {},
     "output_type": "execute_result"
    }
   ],
   "source": [
    "master_df.groupby('Product_Sub_Category').Profit.sum().idxmin()"
   ]
  },
  {
   "cell_type": "code",
   "execution_count": 71,
   "metadata": {},
   "outputs": [
    {
     "data": {
      "text/plain": [
       "Order_Year  Order_Month\n",
       "2009        1              379695.0180\n",
       "            2              336525.2050\n",
       "            3              411076.4110\n",
       "            4              439218.8355\n",
       "            5              382541.0940\n",
       "            6              286397.2530\n",
       "            7              339817.0355\n",
       "            8              301470.8270\n",
       "            9              307395.8935\n",
       "            10             346021.8880\n",
       "            11             265888.1155\n",
       "            12             413091.8795\n",
       "2010        1              240197.9760\n",
       "            2              243504.4415\n",
       "            3              273429.5910\n",
       "            4              242681.2995\n",
       "            5              272234.3790\n",
       "            6              279740.5190\n",
       "            7              283801.7100\n",
       "            8              212134.3055\n",
       "            9              463269.2195\n",
       "            10             350759.6650\n",
       "            11             323332.1120\n",
       "            12             364595.5865\n",
       "2011        1              191642.3765\n",
       "            2              286007.3815\n",
       "            3              311709.1650\n",
       "            4              325909.2735\n",
       "            5              315211.8710\n",
       "            6              253306.7455\n",
       "            7              268256.9980\n",
       "            8              247245.7245\n",
       "            9              221745.5960\n",
       "            10             362875.2945\n",
       "            11             365289.9605\n",
       "            12             287616.3155\n",
       "2012        1              346449.7220\n",
       "            2              404735.7155\n",
       "            3              285669.4090\n",
       "            4              249147.6945\n",
       "            5              369417.4365\n",
       "            6              300335.2720\n",
       "            7              315713.9180\n",
       "            8              183279.7080\n",
       "            9              325792.7560\n",
       "            10             360129.3905\n",
       "            11             298018.1880\n",
       "            12             281274.6520\n",
       "Name: Sales, dtype: float64"
      ]
     },
     "execution_count": 71,
     "metadata": {},
     "output_type": "execute_result"
    }
   ],
   "source": [
    "master_df.groupby(['Order_Year','Order_Month']).Sales.sum()"
   ]
  },
  {
   "cell_type": "code",
   "execution_count": 72,
   "metadata": {},
   "outputs": [
    {
     "data": {
      "text/plain": [
       "183279.70799999996"
      ]
     },
     "execution_count": 72,
     "metadata": {},
     "output_type": "execute_result"
    }
   ],
   "source": [
    "master_df.groupby(['Order_Year','Order_Month']).Sales.sum().min()"
   ]
  },
  {
   "cell_type": "code",
   "execution_count": 73,
   "metadata": {},
   "outputs": [
    {
     "data": {
      "text/plain": [
       "(2012, 8)"
      ]
     },
     "execution_count": 73,
     "metadata": {},
     "output_type": "execute_result"
    }
   ],
   "source": [
    "master_df.groupby(['Order_Year','Order_Month']).Sales.sum().idxmin()"
   ]
  },
  {
   "cell_type": "code",
   "execution_count": 75,
   "metadata": {},
   "outputs": [
    {
     "data": {
      "text/html": [
       "<div>\n",
       "<style scoped>\n",
       "    .dataframe tbody tr th:only-of-type {\n",
       "        vertical-align: middle;\n",
       "    }\n",
       "\n",
       "    .dataframe tbody tr th {\n",
       "        vertical-align: top;\n",
       "    }\n",
       "\n",
       "    .dataframe thead th {\n",
       "        text-align: right;\n",
       "    }\n",
       "</style>\n",
       "<table border=\"1\" class=\"dataframe\">\n",
       "  <thead>\n",
       "    <tr style=\"text-align: right;\">\n",
       "      <th></th>\n",
       "      <th></th>\n",
       "      <th>Profit</th>\n",
       "      <th>Sales</th>\n",
       "    </tr>\n",
       "    <tr>\n",
       "      <th>Product_Category</th>\n",
       "      <th>Product_Sub_Category</th>\n",
       "      <th></th>\n",
       "      <th></th>\n",
       "    </tr>\n",
       "  </thead>\n",
       "  <tbody>\n",
       "    <tr>\n",
       "      <td rowspan=\"4\" valign=\"top\">FURNITURE</td>\n",
       "      <td>BOOKCASES</td>\n",
       "      <td>-33582.13</td>\n",
       "      <td>822652.040</td>\n",
       "    </tr>\n",
       "    <tr>\n",
       "      <td>CHAIRS &amp; CHAIRMATS</td>\n",
       "      <td>149649.73</td>\n",
       "      <td>1761836.550</td>\n",
       "    </tr>\n",
       "    <tr>\n",
       "      <td>OFFICE FURNISHINGS</td>\n",
       "      <td>100427.93</td>\n",
       "      <td>698093.810</td>\n",
       "    </tr>\n",
       "    <tr>\n",
       "      <td>TABLES</td>\n",
       "      <td>-99062.50</td>\n",
       "      <td>1896008.142</td>\n",
       "    </tr>\n",
       "    <tr>\n",
       "      <td rowspan=\"9\" valign=\"top\">OFFICE SUPPLIES</td>\n",
       "      <td>APPLIANCES</td>\n",
       "      <td>97158.06</td>\n",
       "      <td>736991.540</td>\n",
       "    </tr>\n",
       "    <tr>\n",
       "      <td>BINDERS AND BINDER ACCESSORIES</td>\n",
       "      <td>307413.39</td>\n",
       "      <td>1022957.590</td>\n",
       "    </tr>\n",
       "    <tr>\n",
       "      <td>ENVELOPES</td>\n",
       "      <td>48182.60</td>\n",
       "      <td>174085.800</td>\n",
       "    </tr>\n",
       "    <tr>\n",
       "      <td>LABELS</td>\n",
       "      <td>13677.17</td>\n",
       "      <td>38981.550</td>\n",
       "    </tr>\n",
       "    <tr>\n",
       "      <td>PAPER</td>\n",
       "      <td>45263.20</td>\n",
       "      <td>446452.860</td>\n",
       "    </tr>\n",
       "    <tr>\n",
       "      <td>PENS &amp; ART SUPPLIES</td>\n",
       "      <td>7564.78</td>\n",
       "      <td>167107.220</td>\n",
       "    </tr>\n",
       "    <tr>\n",
       "      <td>RUBBER BANDS</td>\n",
       "      <td>-102.67</td>\n",
       "      <td>15006.630</td>\n",
       "    </tr>\n",
       "    <tr>\n",
       "      <td>SCISSORS, RULERS AND TRIMMERS</td>\n",
       "      <td>-7799.25</td>\n",
       "      <td>80996.310</td>\n",
       "    </tr>\n",
       "    <tr>\n",
       "      <td>STORAGE &amp; ORGANIZATION</td>\n",
       "      <td>6664.15</td>\n",
       "      <td>1070182.600</td>\n",
       "    </tr>\n",
       "    <tr>\n",
       "      <td rowspan=\"4\" valign=\"top\">TECHNOLOGY</td>\n",
       "      <td>COMPUTER PERIPHERALS</td>\n",
       "      <td>94287.48</td>\n",
       "      <td>795875.940</td>\n",
       "    </tr>\n",
       "    <tr>\n",
       "      <td>COPIERS AND FAX</td>\n",
       "      <td>167361.49</td>\n",
       "      <td>1130361.300</td>\n",
       "    </tr>\n",
       "    <tr>\n",
       "      <td>OFFICE MACHINES</td>\n",
       "      <td>307712.93</td>\n",
       "      <td>2168697.140</td>\n",
       "    </tr>\n",
       "    <tr>\n",
       "      <td>TELEPHONES AND COMMUNICATION</td>\n",
       "      <td>316951.62</td>\n",
       "      <td>1889313.802</td>\n",
       "    </tr>\n",
       "  </tbody>\n",
       "</table>\n",
       "</div>"
      ],
      "text/plain": [
       "                                                    Profit        Sales\n",
       "Product_Category Product_Sub_Category                                  \n",
       "FURNITURE        BOOKCASES                       -33582.13   822652.040\n",
       "                 CHAIRS & CHAIRMATS              149649.73  1761836.550\n",
       "                 OFFICE FURNISHINGS              100427.93   698093.810\n",
       "                 TABLES                          -99062.50  1896008.142\n",
       "OFFICE SUPPLIES  APPLIANCES                       97158.06   736991.540\n",
       "                 BINDERS AND BINDER ACCESSORIES  307413.39  1022957.590\n",
       "                 ENVELOPES                        48182.60   174085.800\n",
       "                 LABELS                           13677.17    38981.550\n",
       "                 PAPER                            45263.20   446452.860\n",
       "                 PENS & ART SUPPLIES               7564.78   167107.220\n",
       "                 RUBBER BANDS                      -102.67    15006.630\n",
       "                 SCISSORS, RULERS AND TRIMMERS    -7799.25    80996.310\n",
       "                 STORAGE & ORGANIZATION            6664.15  1070182.600\n",
       "TECHNOLOGY       COMPUTER PERIPHERALS             94287.48   795875.940\n",
       "                 COPIERS AND FAX                 167361.49  1130361.300\n",
       "                 OFFICE MACHINES                 307712.93  2168697.140\n",
       "                 TELEPHONES AND COMMUNICATION    316951.62  1889313.802"
      ]
     },
     "execution_count": 75,
     "metadata": {},
     "output_type": "execute_result"
    }
   ],
   "source": [
    "master_df.groupby(['Product_Category','Product_Sub_Category'])[['Profit','Sales']].sum()"
   ]
  },
  {
   "cell_type": "code",
   "execution_count": 76,
   "metadata": {},
   "outputs": [
    {
     "data": {
      "text/plain": [
       "1521767.98"
      ]
     },
     "execution_count": 76,
     "metadata": {},
     "output_type": "execute_result"
    }
   ],
   "source": [
    "master_df.Profit.sum()"
   ]
  },
  {
   "cell_type": "code",
   "execution_count": 77,
   "metadata": {},
   "outputs": [
    {
     "data": {
      "text/plain": [
       "14915600.824"
      ]
     },
     "execution_count": 77,
     "metadata": {},
     "output_type": "execute_result"
    }
   ],
   "source": [
    "master_df.Sales.sum()"
   ]
  },
  {
   "cell_type": "code",
   "execution_count": 79,
   "metadata": {},
   "outputs": [
    {
     "data": {
      "text/plain": [
       "13393832.843999999"
      ]
     },
     "execution_count": 79,
     "metadata": {},
     "output_type": "execute_result"
    }
   ],
   "source": [
    "master_df.Sales.sum()-master_df.Profit.sum()"
   ]
  },
  {
   "cell_type": "code",
   "execution_count": null,
   "metadata": {},
   "outputs": [],
   "source": []
  }
 ],
 "metadata": {
  "kernelspec": {
   "display_name": "Python 3",
   "language": "python",
   "name": "python3"
  },
  "language_info": {
   "codemirror_mode": {
    "name": "ipython",
    "version": 3
   },
   "file_extension": ".py",
   "mimetype": "text/x-python",
   "name": "python",
   "nbconvert_exporter": "python",
   "pygments_lexer": "ipython3",
   "version": "3.7.4"
  }
 },
 "nbformat": 4,
 "nbformat_minor": 2
}
