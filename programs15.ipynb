{
 "cells": [
  {
   "cell_type": "code",
   "execution_count": 20,
   "metadata": {},
   "outputs": [
    {
     "name": "stdout",
     "output_type": "stream",
     "text": [
      "enter a number8\n",
      "factors of 8 is 40320\n"
     ]
    }
   ],
   "source": [
    "#factorial of number\n",
    "\n",
    "def factorial(n):\n",
    "    return 1 if (n==1 or n==0) else n*factorial(n-1)\n",
    "n=int(input(\"enter a number\"))        \n",
    "print(\"factors of\",n,\"is\",factorial(n))"
   ]
  },
  {
   "cell_type": "code",
   "execution_count": null,
   "metadata": {},
   "outputs": [],
   "source": []
  },
  {
   "cell_type": "code",
   "execution_count": null,
   "metadata": {},
   "outputs": [],
   "source": []
  },
  {
   "cell_type": "code",
   "execution_count": 30,
   "metadata": {},
   "outputs": [
    {
     "name": "stdout",
     "output_type": "stream",
     "text": [
      "enter a number145\n",
      "number is strong\n"
     ]
    }
   ],
   "source": [
    "#strong number or not\n",
    "\n",
    "def strongestnum(num):\n",
    "    sum=0\n",
    "    temp=num\n",
    "    while(num):\n",
    "        i=1\n",
    "        f=1\n",
    "        r=num%10\n",
    "        while(i<=r):\n",
    "            f=f*i\n",
    "            i=i+1\n",
    "        sum=sum+f\n",
    "        num=num//10\n",
    "    if(sum==temp):\n",
    "        print(\"number is strong\")\n",
    "    else:\n",
    "        print(\"not strong\")\n",
    "    return\n",
    "num=int(input(\"enter a number\"))\n",
    "strongestnum(num)"
   ]
  },
  {
   "cell_type": "code",
   "execution_count": null,
   "metadata": {},
   "outputs": [],
   "source": []
  },
  {
   "cell_type": "code",
   "execution_count": 49,
   "metadata": {},
   "outputs": [
    {
     "name": "stdout",
     "output_type": "stream",
     "text": [
      "enter a number9474\n",
      "number is armstrong\n"
     ]
    }
   ],
   "source": [
    "#Armstrong number\n",
    "def armstrong(num):\n",
    "    sum=0\n",
    "    num=int(input(\"enter a number\"))\n",
    "    temp=num\n",
    "    while temp>0:\n",
    "        digit=temp%10\n",
    "        sum+= digit**len(str(num))\n",
    "        temp//=10\n",
    "    if num==sum:\n",
    "        print(\"number is armstrong\")\n",
    "    else:\n",
    "        print(\"not armstrong\")\n",
    "    return\n",
    "armstrong(num)"
   ]
  },
  {
   "cell_type": "code",
   "execution_count": null,
   "metadata": {},
   "outputs": [],
   "source": []
  },
  {
   "cell_type": "code",
   "execution_count": 13,
   "metadata": {},
   "outputs": [
    {
     "name": "stdout",
     "output_type": "stream",
     "text": [
      "enter minimum value:22\n",
      "enter maximum value:989\n",
      "palindrome numbers between 22 and 989 are:\n",
      "22 33 44 55 66 77 88 99 101 111 121 131 141 151 161 171 181 191 202 212 222 232 242 252 262 272 282 292 303 313 323 333 343 353 363 373 383 393 404 414 424 434 444 454 464 474 484 494 505 515 525 535 545 555 565 575 585 595 606 616 626 636 646 656 666 676 686 696 707 717 727 737 747 757 767 777 787 797 808 818 828 838 848 858 868 878 888 898 909 919 929 939 949 959 969 979 989 "
     ]
    }
   ],
   "source": [
    "#count palindrome\n",
    "def count_palindrome():\n",
    "    minimum=int(input(\"enter minimum value:\"))\n",
    "    maximum=int(input(\"enter maximum value:\"))\n",
    "    print(\"palindrome numbers between %d and %d are:\"%(minimum,maximum))\n",
    "    for num in range(minimum,maximum+1):\n",
    "        temp=num\n",
    "        reverse=0\n",
    "        \n",
    "        while(temp>0):\n",
    "            reminder=temp%10\n",
    "            reverse=(reverse*10+reminder)\n",
    "            temp=temp//10\n",
    "            \n",
    "        if(num==reverse):\n",
    "            print(\"%d\"%num,end=' ')\n",
    "            \n",
    "count_palindrome()           "
   ]
  },
  {
   "cell_type": "code",
   "execution_count": null,
   "metadata": {},
   "outputs": [],
   "source": []
  },
  {
   "cell_type": "code",
   "execution_count": null,
   "metadata": {},
   "outputs": [],
   "source": []
  },
  {
   "cell_type": "code",
   "execution_count": 7,
   "metadata": {},
   "outputs": [
    {
     "name": "stdout",
     "output_type": "stream",
     "text": [
      "enter a number9\n",
      "factors of9=[1, 3, 9]\n"
     ]
    }
   ],
   "source": [
    "#factors of given number\n",
    "\n",
    "def factors():\n",
    "    num=int(input(\"enter a number\"))\n",
    "    factors=[]\n",
    "    for i in range(1,num+1):\n",
    "        if num%i==0:\n",
    "           factors.append(i) \n",
    "    print(\"factors of{}={}\".format(num,factors))\n",
    "factors()"
   ]
  },
  {
   "cell_type": "code",
   "execution_count": null,
   "metadata": {},
   "outputs": [],
   "source": []
  },
  {
   "cell_type": "code",
   "execution_count": 5,
   "metadata": {},
   "outputs": [
    {
     "name": "stdout",
     "output_type": "stream",
     "text": [
      "enter a num28\n",
      "28 is perfect\n"
     ]
    }
   ],
   "source": [
    "#perfect or not\n",
    "\n",
    "def perfect_or_not():\n",
    "    num=int(input(\"enter a num\"))\n",
    "    sum=0\n",
    "    for i in range(1,num):\n",
    "        if num%i==0:\n",
    "            sum=sum+i\n",
    "    if (sum==num):\n",
    "        print(\"%d is perfect\" %num)\n",
    "    else:\n",
    "        print(\"%d not perfect\" %num)\n",
    "perfect_or_not()"
   ]
  },
  {
   "cell_type": "code",
   "execution_count": null,
   "metadata": {},
   "outputs": [],
   "source": []
  },
  {
   "cell_type": "code",
   "execution_count": 61,
   "metadata": {},
   "outputs": [
    {
     "name": "stdout",
     "output_type": "stream",
     "text": [
      "enter a num9\n",
      "9 x 1 = 9\n",
      "9 x 2 = 18\n",
      "9 x 3 = 27\n",
      "9 x 4 = 36\n",
      "9 x 5 = 45\n",
      "9 x 6 = 54\n",
      "9 x 7 = 63\n",
      "9 x 8 = 72\n",
      "9 x 9 = 81\n",
      "9 x 10 = 90\n",
      "9 x 11 = 99\n"
     ]
    }
   ],
   "source": [
    "#multiplication table\n",
    "\n",
    "def multiplication():\n",
    "    num=int(input(\"enter a num\"))\n",
    "    for i in range(1,12):\n",
    "        print(num,'x',i,'=', num*i)\n",
    "multiplication()"
   ]
  },
  {
   "cell_type": "code",
   "execution_count": null,
   "metadata": {},
   "outputs": [],
   "source": []
  },
  {
   "cell_type": "code",
   "execution_count": 4,
   "metadata": {},
   "outputs": [
    {
     "name": "stdout",
     "output_type": "stream",
     "text": [
      "enter a number25\n",
      "25 is not prime\n"
     ]
    }
   ],
   "source": [
    "#prime or not \n",
    "\n",
    "def prime_or_not():\n",
    "    num=int(input(\"enter a number\"))\n",
    "    if num>1:\n",
    "        \n",
    "        for i in range(2,num//2):\n",
    "            \n",
    "            if (num%i)==0:\n",
    "                print(num,\"is not prime\")\n",
    "                break\n",
    "        else:\n",
    "            print(num, \"is prime\")\n",
    "    else:\n",
    "        print(num,\"not a prime\")\n",
    "prime_or_not()"
   ]
  },
  {
   "cell_type": "code",
   "execution_count": null,
   "metadata": {},
   "outputs": [],
   "source": []
  },
  {
   "cell_type": "code",
   "execution_count": 7,
   "metadata": {},
   "outputs": [
    {
     "name": "stdout",
     "output_type": "stream",
     "text": [
      "1:4\n",
      "5:2\n",
      "3:2\n",
      "6:1\n"
     ]
    }
   ],
   "source": [
    "#frequency list\n",
    "\n",
    "def countfrequency(my_list):\n",
    "    freq={}\n",
    "    for item in my_list:\n",
    "        if(item in freq):\n",
    "            freq[item]+=1\n",
    "        else:\n",
    "            freq[item]=1\n",
    "    for key, value in freq.items():\n",
    "        print(\"%d:%d\" %(key, value))\n",
    "if __name__ == \"__main__\":\n",
    "              my_list=[1,1,1,5,5,3,1,3,6]\n",
    "countfrequency(my_list)"
   ]
  },
  {
   "cell_type": "code",
   "execution_count": null,
   "metadata": {},
   "outputs": [],
   "source": []
  },
  {
   "cell_type": "code",
   "execution_count": null,
   "metadata": {},
   "outputs": [],
   "source": []
  }
 ],
 "metadata": {
  "kernelspec": {
   "display_name": "Python 3",
   "language": "python",
   "name": "python3"
  },
  "language_info": {
   "codemirror_mode": {
    "name": "ipython",
    "version": 3
   },
   "file_extension": ".py",
   "mimetype": "text/x-python",
   "name": "python",
   "nbconvert_exporter": "python",
   "pygments_lexer": "ipython3",
   "version": "3.7.4"
  }
 },
 "nbformat": 4,
 "nbformat_minor": 2
}
