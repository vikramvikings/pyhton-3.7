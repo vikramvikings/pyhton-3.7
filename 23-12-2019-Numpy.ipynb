{
 "cells": [
  {
   "cell_type": "markdown",
   "metadata": {},
   "source": [
    "**Topics covered in last session**\n",
    "- arange,Linspace\n",
    "- random\n",
    "    - randint\n",
    "    - randn \n",
    "    - normal    \n",
    "- Basic Operatords +,-,%,/,//,**\n",
    "- Initializing arrays\n",
    "    - zeros\n",
    "    - ones\n",
    "    - full\n",
    "    - eye\n",
    "    - diag\n",
    "- statistics\n",
    "    - min\n",
    "    - max\n",
    "    - median\n",
    "    - quantile\n",
    "    - mean\n",
    "    - sum"
   ]
  },
  {
   "cell_type": "code",
   "execution_count": 1,
   "metadata": {},
   "outputs": [
    {
     "name": "stdout",
     "output_type": "stream",
     "text": [
      "[0 1 2 3 4 5 6]\n",
      "[1 1 1 1 1 1 1]\n"
     ]
    }
   ],
   "source": [
    "import numpy as np\n",
    "a = np.arange(7)\n",
    "b = np.full((7),1)\n",
    "print(a)\n",
    "print(b)"
   ]
  },
  {
   "cell_type": "code",
   "execution_count": 5,
   "metadata": {},
   "outputs": [
    {
     "name": "stdout",
     "output_type": "stream",
     "text": [
      "[1 2 3 4 5 6 7]\n",
      "[-1  0  1  2  3  4  5]\n",
      "[0 1 2 3 4 5 6]\n",
      "[0. 1. 2. 3. 4. 5. 6.]\n",
      "[0 0 0 0 0 0 0]\n"
     ]
    }
   ],
   "source": [
    "print(np.add(a,b))\n",
    "print(np.subtract(a,b))\n",
    "print(np.multiply(a,b))\n",
    "print(np.divide(a,b))\n",
    "print(np.mod(a,b))"
   ]
  },
  {
   "cell_type": "code",
   "execution_count": 7,
   "metadata": {
    "collapsed": true
   },
   "outputs": [
    {
     "data": {
      "text/plain": [
       "array([[[83, 40, 73, 54],\n",
       "        [31, 76, 91, 39],\n",
       "        [90, 25, 51,  6],\n",
       "        [45, 12, 49, 66],\n",
       "        [75, 85, 69, 64]],\n",
       "\n",
       "       [[12, 21, 48, 41],\n",
       "        [79, 90, 62, 57],\n",
       "        [19, 33, 59, 39],\n",
       "        [15, 36, 65,  1],\n",
       "        [43, 15, 86, 83]],\n",
       "\n",
       "       [[58, 25, 66, 74],\n",
       "        [35, 96, 56, 13],\n",
       "        [60, 22, 38, 31],\n",
       "        [94, 78,  0, 21],\n",
       "        [ 6, 32, 98, 32]]])"
      ]
     },
     "execution_count": 7,
     "metadata": {},
     "output_type": "execute_result"
    }
   ],
   "source": [
    "# Create a 3d Array\n",
    "np.random.seed(23)\n",
    "a3 = np.random.randint(100,size=(3,5,4))\n",
    "a3"
   ]
  },
  {
   "cell_type": "code",
   "execution_count": 8,
   "metadata": {},
   "outputs": [
    {
     "name": "stdout",
     "output_type": "stream",
     "text": [
      "[[83 40 73 54]\n",
      " [31 76 91 39]\n",
      " [90 25 51  6]\n",
      " [45 12 49 66]\n",
      " [75 85 69 64]]\n"
     ]
    }
   ],
   "source": [
    "# Iteration over a 3d Array\n",
    "for i in a3:\n",
    "    print(i)\n",
    "    break"
   ]
  },
  {
   "cell_type": "markdown",
   "metadata": {},
   "source": [
    "Slicing or Subsetting"
   ]
  },
  {
   "cell_type": "code",
   "execution_count": 9,
   "metadata": {},
   "outputs": [
    {
     "data": {
      "text/plain": [
       "array([[[83, 40, 73, 54],\n",
       "        [31, 76, 91, 39],\n",
       "        [90, 25, 51,  6],\n",
       "        [45, 12, 49, 66],\n",
       "        [75, 85, 69, 64]],\n",
       "\n",
       "       [[12, 21, 48, 41],\n",
       "        [79, 90, 62, 57],\n",
       "        [19, 33, 59, 39],\n",
       "        [15, 36, 65,  1],\n",
       "        [43, 15, 86, 83]],\n",
       "\n",
       "       [[58, 25, 66, 74],\n",
       "        [35, 96, 56, 13],\n",
       "        [60, 22, 38, 31],\n",
       "        [94, 78,  0, 21],\n",
       "        [ 6, 32, 98, 32]]])"
      ]
     },
     "execution_count": 9,
     "metadata": {},
     "output_type": "execute_result"
    }
   ],
   "source": [
    "a3[:] # All the elemnts "
   ]
  },
  {
   "cell_type": "code",
   "execution_count": 15,
   "metadata": {
    "collapsed": true
   },
   "outputs": [
    {
     "data": {
      "text/plain": [
       "array([[12, 21, 48, 41],\n",
       "       [79, 90, 62, 57],\n",
       "       [19, 33, 59, 39],\n",
       "       [15, 36, 65,  1],\n",
       "       [43, 15, 86, 83]])"
      ]
     },
     "execution_count": 15,
     "metadata": {},
     "output_type": "execute_result"
    }
   ],
   "source": [
    "a3[1] # 2nd 5*3 Array shape(5,4)"
   ]
  },
  {
   "cell_type": "code",
   "execution_count": 16,
   "metadata": {
    "collapsed": true
   },
   "outputs": [
    {
     "data": {
      "text/plain": [
       "array([[[83, 40, 73, 54],\n",
       "        [31, 76, 91, 39],\n",
       "        [90, 25, 51,  6],\n",
       "        [45, 12, 49, 66],\n",
       "        [75, 85, 69, 64]]])"
      ]
     },
     "execution_count": 16,
     "metadata": {},
     "output_type": "execute_result"
    }
   ],
   "source": [
    "a3[:1] # a3[0] a 5*3 array shape(5,4)"
   ]
  },
  {
   "cell_type": "code",
   "execution_count": 19,
   "metadata": {},
   "outputs": [
    {
     "name": "stdout",
     "output_type": "stream",
     "text": [
      "(2, 5, 4)\n"
     ]
    },
    {
     "data": {
      "text/plain": [
       "array([[[83, 40, 73, 54],\n",
       "        [31, 76, 91, 39],\n",
       "        [90, 25, 51,  6],\n",
       "        [45, 12, 49, 66],\n",
       "        [75, 85, 69, 64]],\n",
       "\n",
       "       [[12, 21, 48, 41],\n",
       "        [79, 90, 62, 57],\n",
       "        [19, 33, 59, 39],\n",
       "        [15, 36, 65,  1],\n",
       "        [43, 15, 86, 83]]])"
      ]
     },
     "execution_count": 19,
     "metadata": {},
     "output_type": "execute_result"
    }
   ],
   "source": [
    "#a3[0] and a3[1] shape(2,5,4) \n",
    "print(a3[:2].shape)\n",
    "a3[:2] "
   ]
  },
  {
   "cell_type": "code",
   "execution_count": 10,
   "metadata": {},
   "outputs": [
    {
     "name": "stdout",
     "output_type": "stream",
     "text": [
      "51\n",
      "51\n"
     ]
    }
   ],
   "source": [
    "print(a3[0][2][2]) # To access elemnt 51 in the First 5*4 array\n",
    "print(a3[0,2,2])"
   ]
  },
  {
   "cell_type": "code",
   "execution_count": 11,
   "metadata": {},
   "outputs": [
    {
     "data": {
      "text/plain": [
       "array([48, 62, 59, 65, 86])"
      ]
     },
     "execution_count": 11,
     "metadata": {},
     "output_type": "execute_result"
    }
   ],
   "source": [
    "a3[1,:,2] #[slicing in dim1: slicing in dim2:slicing in dim3]"
   ]
  },
  {
   "cell_type": "code",
   "execution_count": 25,
   "metadata": {},
   "outputs": [
    {
     "data": {
      "text/plain": [
       "array([[91, 51],\n",
       "       [62, 59]])"
      ]
     },
     "execution_count": 25,
     "metadata": {},
     "output_type": "execute_result"
    }
   ],
   "source": [
    "a3[:2,1:3,2] # [slicing in dim1: slicing in dim2:selecting a specific index]"
   ]
  },
  {
   "cell_type": "code",
   "execution_count": 26,
   "metadata": {
    "collapsed": true
   },
   "outputs": [
    {
     "data": {
      "text/plain": [
       "array([[[58, 25, 66, 74],\n",
       "        [35, 96, 56, 13],\n",
       "        [60, 22, 38, 31],\n",
       "        [94, 78,  0, 21],\n",
       "        [ 6, 32, 98, 32]],\n",
       "\n",
       "       [[12, 21, 48, 41],\n",
       "        [79, 90, 62, 57],\n",
       "        [19, 33, 59, 39],\n",
       "        [15, 36, 65,  1],\n",
       "        [43, 15, 86, 83]],\n",
       "\n",
       "       [[83, 40, 73, 54],\n",
       "        [31, 76, 91, 39],\n",
       "        [90, 25, 51,  6],\n",
       "        [45, 12, 49, 66],\n",
       "        [75, 85, 69, 64]]])"
      ]
     },
     "execution_count": 26,
     "metadata": {},
     "output_type": "execute_result"
    }
   ],
   "source": [
    "a3[[2,1,0]] # [list of indices in dim1]"
   ]
  },
  {
   "cell_type": "code",
   "execution_count": 27,
   "metadata": {
    "collapsed": true
   },
   "outputs": [
    {
     "data": {
      "text/plain": [
       "array([[[45, 12, 49, 66],\n",
       "        [31, 76, 91, 39]],\n",
       "\n",
       "       [[15, 36, 65,  1],\n",
       "        [79, 90, 62, 57]],\n",
       "\n",
       "       [[94, 78,  0, 21],\n",
       "        [35, 96, 56, 13]]])"
      ]
     },
     "execution_count": 27,
     "metadata": {},
     "output_type": "execute_result"
    }
   ],
   "source": [
    "a3[:,[3,1]] # [slicing in dim1:list of indices in dim2]"
   ]
  },
  {
   "cell_type": "code",
   "execution_count": 28,
   "metadata": {},
   "outputs": [
    {
     "data": {
      "text/plain": [
       "array([13, 65])"
      ]
     },
     "execution_count": 28,
     "metadata": {},
     "output_type": "execute_result"
    }
   ],
   "source": [
    "#[list of indices in dim1: list of indices in dim2:list od indices in dim3]\n",
    "# Index selection using Braodcating\n",
    "print(a3[[2,1],[1,3],[3,2]])  # [2,1,3] [1,3,2]\n",
    "print(a3[2,1,3],a3[1,3,2]) "
   ]
  },
  {
   "cell_type": "code",
   "execution_count": 12,
   "metadata": {},
   "outputs": [
    {
     "data": {
      "text/plain": [
       "array([[44, 47, 64, 67, 67,  9, 83],\n",
       "       [21, 36, 87, 70, 88, 88, 12],\n",
       "       [58, 65, 39, 87, 46, 88, 81],\n",
       "       [37, 25, 77, 72,  9, 20, 80],\n",
       "       [69, 79, 47, 64, 82, 99, 88]])"
      ]
     },
     "execution_count": 12,
     "metadata": {},
     "output_type": "execute_result"
    }
   ],
   "source": [
    "# To generate same values \n",
    "np.random.seed(0)\n",
    "a2 = np.random.randint(100,size=(5,7))\n",
    "a2"
   ]
  },
  {
   "cell_type": "code",
   "execution_count": 41,
   "metadata": {
    "collapsed": true
   },
   "outputs": [
    {
     "data": {
      "text/plain": [
       "array([[ 0,  1,  2,  3,  4,  5,  6],\n",
       "       [ 7,  8,  9, 10, 11, 12, 13],\n",
       "       [14, 15, 16, 17, 18, 19, 20],\n",
       "       [21, 22, 23, 24, 25, 26, 27],\n",
       "       [28, 29, 30, 31, 32, 33, 34]])"
      ]
     },
     "execution_count": 41,
     "metadata": {},
     "output_type": "execute_result"
    }
   ],
   "source": [
    "a2 = np.arange(35).reshape(5,7)\n",
    "a2"
   ]
  },
  {
   "cell_type": "code",
   "execution_count": 13,
   "metadata": {},
   "outputs": [
    {
     "data": {
      "text/plain": [
       "array([[47, 67,  9],\n",
       "       [36, 70, 88],\n",
       "       [65, 87, 88],\n",
       "       [25, 72, 20],\n",
       "       [79, 64, 99]])"
      ]
     },
     "execution_count": 13,
     "metadata": {},
     "output_type": "execute_result"
    }
   ],
   "source": [
    "# Select alternate columns\n",
    "# Select alternate rows\n",
    "#a2[:,[1,3,5]]\n",
    "#a2[:,[0,2,4,6]]\n",
    "#a2[:,0::2]\n",
    "a2[:,1::2]"
   ]
  },
  {
   "cell_type": "code",
   "execution_count": 50,
   "metadata": {},
   "outputs": [
    {
     "data": {
      "text/plain": [
       "array([[ 7,  8,  9, 10, 11, 12, 13],\n",
       "       [21, 22, 23, 24, 25, 26, 27]])"
      ]
     },
     "execution_count": 50,
     "metadata": {},
     "output_type": "execute_result"
    }
   ],
   "source": [
    "a2[0::2,:]\n",
    "a2[[0,2,4],:]\n",
    "a2[1::2,:]\n",
    "a2[[1,3],:]"
   ]
  },
  {
   "cell_type": "code",
   "execution_count": 56,
   "metadata": {},
   "outputs": [
    {
     "data": {
      "text/plain": [
       "array([ 9, 18,  6])"
      ]
     },
     "execution_count": 56,
     "metadata": {},
     "output_type": "execute_result"
    }
   ],
   "source": [
    "# Check the output\n",
    "a2[[1,2,0],[2,4,6]] #[(1,2),(2,4),(0,6)]"
   ]
  },
  {
   "cell_type": "code",
   "execution_count": 57,
   "metadata": {},
   "outputs": [
    {
     "data": {
      "text/plain": [
       "array([[ 0,  2,  4,  6],\n",
       "       [14, 16, 18, 20],\n",
       "       [28, 30, 32, 34]])"
      ]
     },
     "execution_count": 57,
     "metadata": {},
     "output_type": "execute_result"
    }
   ],
   "source": [
    "a2[::2,::2]"
   ]
  },
  {
   "cell_type": "markdown",
   "metadata": {},
   "source": [
    "Boolean or Fancy Indexing"
   ]
  },
  {
   "cell_type": "code",
   "execution_count": 58,
   "metadata": {
    "collapsed": true
   },
   "outputs": [
    {
     "data": {
      "text/plain": [
       "array([[False, False, False, False, False, False, False],\n",
       "       [False, False, False, False,  True,  True,  True],\n",
       "       [ True,  True,  True,  True,  True,  True,  True],\n",
       "       [ True,  True,  True,  True,  True,  True,  True],\n",
       "       [ True,  True,  True,  True,  True,  True,  True]])"
      ]
     },
     "execution_count": 58,
     "metadata": {},
     "output_type": "execute_result"
    }
   ],
   "source": [
    "a2 >10"
   ]
  },
  {
   "cell_type": "code",
   "execution_count": 61,
   "metadata": {},
   "outputs": [
    {
     "data": {
      "text/plain": [
       "24"
      ]
     },
     "execution_count": 61,
     "metadata": {},
     "output_type": "execute_result"
    }
   ],
   "source": [
    "np.sum(a2>10) # Caluculating the number of values greater than 10"
   ]
  },
  {
   "cell_type": "code",
   "execution_count": 14,
   "metadata": {},
   "outputs": [
    {
     "name": "stdout",
     "output_type": "stream",
     "text": [
      "2\n",
      "1\n"
     ]
    }
   ],
   "source": [
    "# + opeartor with boolean data\n",
    "print(True +  True)\n",
    "print(True + False)"
   ]
  },
  {
   "cell_type": "code",
   "execution_count": 15,
   "metadata": {},
   "outputs": [
    {
     "data": {
      "text/plain": [
       "array([44, 47, 64, 67, 67, 83, 21, 36, 87, 70, 88, 88, 12, 58, 65, 39, 87,\n",
       "       46, 88, 81, 37, 25, 77, 72, 20, 80, 69, 79, 47, 64, 82, 99, 88])"
      ]
     },
     "execution_count": 15,
     "metadata": {},
     "output_type": "execute_result"
    }
   ],
   "source": [
    "# Selction using Boolean Index\n",
    "a2[a2>10]"
   ]
  },
  {
   "cell_type": "code",
   "execution_count": 17,
   "metadata": {},
   "outputs": [
    {
     "data": {
      "text/plain": [
       "array([False, False, False,  True,  True,  True, False])"
      ]
     },
     "execution_count": 17,
     "metadata": {},
     "output_type": "execute_result"
    }
   ],
   "source": [
    "# To get even numbers from an array\n",
    "a5 = np.array([67,89,23,44,32,78,99])\n",
    "a5 %2 ==0"
   ]
  },
  {
   "cell_type": "code",
   "execution_count": 18,
   "metadata": {},
   "outputs": [
    {
     "data": {
      "text/plain": [
       "array([44, 32, 78])"
      ]
     },
     "execution_count": 18,
     "metadata": {},
     "output_type": "execute_result"
    }
   ],
   "source": [
    "a5[a5 %2==0]"
   ]
  },
  {
   "cell_type": "code",
   "execution_count": 19,
   "metadata": {},
   "outputs": [
    {
     "data": {
      "text/plain": [
       "array([67, 89, 23,  0,  0,  0, 99])"
      ]
     },
     "execution_count": 19,
     "metadata": {},
     "output_type": "execute_result"
    }
   ],
   "source": [
    "# Assigning a value to selected elemnts\n",
    "a5[a5 %2==0] = 0\n",
    "a5"
   ]
  },
  {
   "cell_type": "code",
   "execution_count": 20,
   "metadata": {},
   "outputs": [],
   "source": [
    "# Reaplacing negative numbers with absolute value\n",
    "a6 = np.array([92,-127,89,-34,2,67])\n",
    "# [92,127,89,34,2,67]\n",
    "#a6[a6<0]=[127,34]\n",
    "# a6[a6<0] = np.mean(a6)"
   ]
  },
  {
   "cell_type": "code",
   "execution_count": 21,
   "metadata": {},
   "outputs": [
    {
     "data": {
      "text/plain": [
       "array([ 92, 127,  89,  34,   2,  67])"
      ]
     },
     "execution_count": 21,
     "metadata": {},
     "output_type": "execute_result"
    }
   ],
   "source": [
    "np.abs(a6)"
   ]
  },
  {
   "cell_type": "code",
   "execution_count": 22,
   "metadata": {},
   "outputs": [
    {
     "data": {
      "text/plain": [
       "14.833333333333334"
      ]
     },
     "execution_count": 22,
     "metadata": {},
     "output_type": "execute_result"
    }
   ],
   "source": [
    "np.mean(a6)"
   ]
  },
  {
   "cell_type": "markdown",
   "metadata": {},
   "source": [
    "Array manipulation\n",
    "    - reshape\n",
    "    - flatten\n",
    "    - resize\n",
    "    "
   ]
  },
  {
   "cell_type": "code",
   "execution_count": 23,
   "metadata": {
    "collapsed": true
   },
   "outputs": [
    {
     "data": {
      "text/plain": [
       "array([[ 0,  1,  2,  3,  4],\n",
       "       [ 5,  6,  7,  8,  9],\n",
       "       [10, 11, 12, 13, 14],\n",
       "       [15, 16, 17, 18, 19],\n",
       "       [20, 21, 22, 23, 24],\n",
       "       [25, 26, 27, 28, 29],\n",
       "       [30, 31, 32, 33, 34],\n",
       "       [35, 36, 37, 38, 39],\n",
       "       [40, 41, 42, 43, 44]])"
      ]
     },
     "execution_count": 23,
     "metadata": {},
     "output_type": "execute_result"
    }
   ],
   "source": [
    "# no of elemnts in the new array and old array sholud be same\n",
    "a7 = np.arange(45).reshape((9,5))\n",
    "a7"
   ]
  },
  {
   "cell_type": "code",
   "execution_count": 78,
   "metadata": {
    "collapsed": true
   },
   "outputs": [
    {
     "data": {
      "text/plain": [
       "array([[[ 0,  1,  2,  3,  4],\n",
       "        [ 5,  6,  7,  8,  9],\n",
       "        [10, 11, 12, 13, 14],\n",
       "        [15, 16, 17, 18, 19],\n",
       "        [20, 21, 22, 23, 24],\n",
       "        [25, 26, 27, 28, 29],\n",
       "        [30, 31, 32, 33, 34],\n",
       "        [35, 36, 37, 38, 39],\n",
       "        [40, 41, 42, 43, 44]]])"
      ]
     },
     "execution_count": 78,
     "metadata": {},
     "output_type": "execute_result"
    }
   ],
   "source": [
    "# Different possible shapes to convert it into 3d array\n",
    "a7.reshape(1,9,5)\n",
    "a7.reshape(3,3,5)\n",
    "a7.reshape(5,3,3)\n",
    "a7.resahpe(3,5,3)"
   ]
  },
  {
   "cell_type": "code",
   "execution_count": 24,
   "metadata": {},
   "outputs": [
    {
     "data": {
      "text/plain": [
       "array([[[83, 40, 73, 54],\n",
       "        [31, 76, 91, 39],\n",
       "        [90, 25, 51,  6]],\n",
       "\n",
       "       [[45, 12, 49, 66],\n",
       "        [75, 85, 69, 64],\n",
       "        [12, 21, 48, 41]],\n",
       "\n",
       "       [[79, 90, 62, 57],\n",
       "        [19, 33, 59, 39],\n",
       "        [15, 36, 65,  1]],\n",
       "\n",
       "       [[43, 15, 86, 83],\n",
       "        [58, 25, 66, 74],\n",
       "        [35, 96, 56, 13]],\n",
       "\n",
       "       [[60, 22, 38, 31],\n",
       "        [94, 78,  0, 21],\n",
       "        [ 6, 32, 98, 32]]])"
      ]
     },
     "execution_count": 24,
     "metadata": {},
     "output_type": "execute_result"
    }
   ],
   "source": [
    "# may use unknown value -1 in any one of the dimension\n",
    "# It will calculate the possible no of elemnts in the unknown dimension\n",
    "a3.reshape(5,3,-1)"
   ]
  },
  {
   "cell_type": "code",
   "execution_count": 25,
   "metadata": {},
   "outputs": [
    {
     "ename": "ValueError",
     "evalue": "can only specify one unknown dimension",
     "output_type": "error",
     "traceback": [
      "\u001b[1;31m---------------------------------------------------------------------------\u001b[0m",
      "\u001b[1;31mValueError\u001b[0m                                Traceback (most recent call last)",
      "\u001b[1;32m<ipython-input-25-e35ebdbf2418>\u001b[0m in \u001b[0;36m<module>\u001b[1;34m\u001b[0m\n\u001b[0;32m      1\u001b[0m \u001b[1;31m# Should use only one unknown dimension\u001b[0m\u001b[1;33m\u001b[0m\u001b[1;33m\u001b[0m\u001b[1;33m\u001b[0m\u001b[0m\n\u001b[1;32m----> 2\u001b[1;33m \u001b[0ma3\u001b[0m\u001b[1;33m.\u001b[0m\u001b[0mreshape\u001b[0m\u001b[1;33m(\u001b[0m\u001b[1;33m-\u001b[0m\u001b[1;36m1\u001b[0m\u001b[1;33m,\u001b[0m\u001b[1;33m-\u001b[0m\u001b[1;36m1\u001b[0m\u001b[1;33m,\u001b[0m\u001b[1;33m-\u001b[0m\u001b[1;36m1\u001b[0m\u001b[1;33m)\u001b[0m\u001b[1;33m\u001b[0m\u001b[1;33m\u001b[0m\u001b[0m\n\u001b[0m",
      "\u001b[1;31mValueError\u001b[0m: can only specify one unknown dimension"
     ]
    }
   ],
   "source": [
    "# Should use only one unknown dimension\n",
    "a3.reshape(-1,-1,-1) "
   ]
  },
  {
   "cell_type": "code",
   "execution_count": 26,
   "metadata": {},
   "outputs": [
    {
     "ename": "ValueError",
     "evalue": "cannot reshape array of size 45 into shape (5,4,newaxis)",
     "output_type": "error",
     "traceback": [
      "\u001b[1;31m---------------------------------------------------------------------------\u001b[0m",
      "\u001b[1;31mValueError\u001b[0m                                Traceback (most recent call last)",
      "\u001b[1;32m<ipython-input-26-7ebce2cf52d1>\u001b[0m in \u001b[0;36m<module>\u001b[1;34m\u001b[0m\n\u001b[1;32m----> 1\u001b[1;33m \u001b[0ma7\u001b[0m\u001b[1;33m.\u001b[0m\u001b[0mreshape\u001b[0m\u001b[1;33m(\u001b[0m\u001b[1;36m5\u001b[0m\u001b[1;33m,\u001b[0m\u001b[1;36m4\u001b[0m\u001b[1;33m,\u001b[0m\u001b[1;33m-\u001b[0m\u001b[1;36m1\u001b[0m\u001b[1;33m)\u001b[0m \u001b[1;31m#Error\u001b[0m\u001b[1;33m\u001b[0m\u001b[1;33m\u001b[0m\u001b[0m\n\u001b[0m",
      "\u001b[1;31mValueError\u001b[0m: cannot reshape array of size 45 into shape (5,4,newaxis)"
     ]
    }
   ],
   "source": [
    "a7.reshape(5,4,-1) #Error"
   ]
  },
  {
   "cell_type": "code",
   "execution_count": 27,
   "metadata": {},
   "outputs": [],
   "source": [
    "# It will modify the original array\n",
    "a7.resize(5,9)"
   ]
  },
  {
   "cell_type": "code",
   "execution_count": 28,
   "metadata": {},
   "outputs": [
    {
     "data": {
      "text/plain": [
       "array([[ 0,  1,  2,  3,  4,  5,  6,  7,  8],\n",
       "       [ 9, 10, 11, 12, 13, 14, 15, 16, 17],\n",
       "       [18, 19, 20, 21, 22, 23, 24, 25, 26],\n",
       "       [27, 28, 29, 30, 31, 32, 33, 34, 35],\n",
       "       [36, 37, 38, 39, 40, 41, 42, 43, 44]])"
      ]
     },
     "execution_count": 28,
     "metadata": {},
     "output_type": "execute_result"
    }
   ],
   "source": [
    "a7"
   ]
  },
  {
   "cell_type": "code",
   "execution_count": 29,
   "metadata": {},
   "outputs": [
    {
     "data": {
      "text/plain": [
       "array([[ 0,  1,  2,  3,  4,  5,  6,  7,  8,  9],\n",
       "       [10, 11, 12, 13, 14, 15, 16, 17, 18, 19],\n",
       "       [20, 21, 22, 23, 24, 25, 26, 27, 28, 29],\n",
       "       [30, 31, 32, 33, 34, 35, 36, 37, 38, 39],\n",
       "       [40, 41, 42, 43, 44,  0,  1,  2,  3,  4]])"
      ]
     },
     "execution_count": 29,
     "metadata": {},
     "output_type": "execute_result"
    }
   ],
   "source": [
    "# It will not modify the original array\n",
    "np.resize(a7,(5,10))"
   ]
  },
  {
   "cell_type": "markdown",
   "metadata": {},
   "source": [
    "Check the documenattion for\n",
    "- np.resize()\n",
    "- np.ndarray.resize"
   ]
  },
  {
   "cell_type": "code",
   "execution_count": 30,
   "metadata": {},
   "outputs": [
    {
     "name": "stdout",
     "output_type": "stream",
     "text": [
      "Help on method_descriptor:\n",
      "\n",
      "resize(...)\n",
      "    a.resize(new_shape, refcheck=True)\n",
      "    \n",
      "    Change shape and size of array in-place.\n",
      "    \n",
      "    Parameters\n",
      "    ----------\n",
      "    new_shape : tuple of ints, or `n` ints\n",
      "        Shape of resized array.\n",
      "    refcheck : bool, optional\n",
      "        If False, reference count will not be checked. Default is True.\n",
      "    \n",
      "    Returns\n",
      "    -------\n",
      "    None\n",
      "    \n",
      "    Raises\n",
      "    ------\n",
      "    ValueError\n",
      "        If `a` does not own its own data or references or views to it exist,\n",
      "        and the data memory must be changed.\n",
      "        PyPy only: will always raise if the data memory must be changed, since\n",
      "        there is no reliable way to determine if references or views to it\n",
      "        exist.\n",
      "    \n",
      "    SystemError\n",
      "        If the `order` keyword argument is specified. This behaviour is a\n",
      "        bug in NumPy.\n",
      "    \n",
      "    See Also\n",
      "    --------\n",
      "    resize : Return a new array with the specified shape.\n",
      "    \n",
      "    Notes\n",
      "    -----\n",
      "    This reallocates space for the data area if necessary.\n",
      "    \n",
      "    Only contiguous arrays (data elements consecutive in memory) can be\n",
      "    resized.\n",
      "    \n",
      "    The purpose of the reference count check is to make sure you\n",
      "    do not use this array as a buffer for another Python object and then\n",
      "    reallocate the memory. However, reference counts can increase in\n",
      "    other ways so if you are sure that you have not shared the memory\n",
      "    for this array with another Python object, then you may safely set\n",
      "    `refcheck` to False.\n",
      "    \n",
      "    Examples\n",
      "    --------\n",
      "    Shrinking an array: array is flattened (in the order that the data are\n",
      "    stored in memory), resized, and reshaped:\n",
      "    \n",
      "    >>> a = np.array([[0, 1], [2, 3]], order='C')\n",
      "    >>> a.resize((2, 1))\n",
      "    >>> a\n",
      "    array([[0],\n",
      "           [1]])\n",
      "    \n",
      "    >>> a = np.array([[0, 1], [2, 3]], order='F')\n",
      "    >>> a.resize((2, 1))\n",
      "    >>> a\n",
      "    array([[0],\n",
      "           [2]])\n",
      "    \n",
      "    Enlarging an array: as above, but missing entries are filled with zeros:\n",
      "    \n",
      "    >>> b = np.array([[0, 1], [2, 3]])\n",
      "    >>> b.resize(2, 3) # new_shape parameter doesn't have to be a tuple\n",
      "    >>> b\n",
      "    array([[0, 1, 2],\n",
      "           [3, 0, 0]])\n",
      "    \n",
      "    Referencing an array prevents resizing...\n",
      "    \n",
      "    >>> c = a\n",
      "    >>> a.resize((1, 1))\n",
      "    Traceback (most recent call last):\n",
      "    ...\n",
      "    ValueError: cannot resize an array that has been referenced ...\n",
      "    \n",
      "    Unless `refcheck` is False:\n",
      "    \n",
      "    >>> a.resize((1, 1), refcheck=False)\n",
      "    >>> a\n",
      "    array([[0]])\n",
      "    >>> c\n",
      "    array([[0]])\n",
      "\n"
     ]
    }
   ],
   "source": [
    "help(np.ndarray.resize)"
   ]
  },
  {
   "cell_type": "code",
   "execution_count": 87,
   "metadata": {
    "collapsed": true
   },
   "outputs": [
    {
     "name": "stdout",
     "output_type": "stream",
     "text": [
      "Help on built-in function resize:\n",
      "\n",
      "resize(...) method of numpy.ndarray instance\n",
      "    a.resize(new_shape, refcheck=True)\n",
      "    \n",
      "    Change shape and size of array in-place.\n",
      "    \n",
      "    Parameters\n",
      "    ----------\n",
      "    new_shape : tuple of ints, or `n` ints\n",
      "        Shape of resized array.\n",
      "    refcheck : bool, optional\n",
      "        If False, reference count will not be checked. Default is True.\n",
      "    \n",
      "    Returns\n",
      "    -------\n",
      "    None\n",
      "    \n",
      "    Raises\n",
      "    ------\n",
      "    ValueError\n",
      "        If `a` does not own its own data or references or views to it exist,\n",
      "        and the data memory must be changed.\n",
      "        PyPy only: will always raise if the data memory must be changed, since\n",
      "        there is no reliable way to determine if references or views to it\n",
      "        exist.\n",
      "    \n",
      "    SystemError\n",
      "        If the `order` keyword argument is specified. This behaviour is a\n",
      "        bug in NumPy.\n",
      "    \n",
      "    See Also\n",
      "    --------\n",
      "    resize : Return a new array with the specified shape.\n",
      "    \n",
      "    Notes\n",
      "    -----\n",
      "    This reallocates space for the data area if necessary.\n",
      "    \n",
      "    Only contiguous arrays (data elements consecutive in memory) can be\n",
      "    resized.\n",
      "    \n",
      "    The purpose of the reference count check is to make sure you\n",
      "    do not use this array as a buffer for another Python object and then\n",
      "    reallocate the memory. However, reference counts can increase in\n",
      "    other ways so if you are sure that you have not shared the memory\n",
      "    for this array with another Python object, then you may safely set\n",
      "    `refcheck` to False.\n",
      "    \n",
      "    Examples\n",
      "    --------\n",
      "    Shrinking an array: array is flattened (in the order that the data are\n",
      "    stored in memory), resized, and reshaped:\n",
      "    \n",
      "    >>> a = np.array([[0, 1], [2, 3]], order='C')\n",
      "    >>> a.resize((2, 1))\n",
      "    >>> a\n",
      "    array([[0],\n",
      "           [1]])\n",
      "    \n",
      "    >>> a = np.array([[0, 1], [2, 3]], order='F')\n",
      "    >>> a.resize((2, 1))\n",
      "    >>> a\n",
      "    array([[0],\n",
      "           [2]])\n",
      "    \n",
      "    Enlarging an array: as above, but missing entries are filled with zeros:\n",
      "    \n",
      "    >>> b = np.array([[0, 1], [2, 3]])\n",
      "    >>> b.resize(2, 3) # new_shape parameter doesn't have to be a tuple\n",
      "    >>> b\n",
      "    array([[0, 1, 2],\n",
      "           [3, 0, 0]])\n",
      "    \n",
      "    Referencing an array prevents resizing...\n",
      "    \n",
      "    >>> c = a\n",
      "    >>> a.resize((1, 1))\n",
      "    Traceback (most recent call last):\n",
      "    ...\n",
      "    ValueError: cannot resize an array that has been referenced ...\n",
      "    \n",
      "    Unless `refcheck` is False:\n",
      "    \n",
      "    >>> a.resize((1, 1), refcheck=False)\n",
      "    >>> a\n",
      "    array([[0]])\n",
      "    >>> c\n",
      "    array([[0]])\n",
      "\n"
     ]
    }
   ],
   "source": [
    "help(a7.resize)"
   ]
  },
  {
   "cell_type": "code",
   "execution_count": 31,
   "metadata": {},
   "outputs": [
    {
     "data": {
      "text/plain": [
       "array([ 0,  1,  2,  3,  4,  5,  6,  7,  8,  9, 10, 11, 12, 13, 14, 15, 16,\n",
       "       17, 18, 19, 20, 21, 22, 23, 24, 25, 26, 27, 28, 29, 30, 31, 32, 33,\n",
       "       34, 35, 36, 37, 38, 39, 40, 41, 42, 43, 44])"
      ]
     },
     "execution_count": 31,
     "metadata": {},
     "output_type": "execute_result"
    }
   ],
   "source": [
    "# To convert an array into 1d\n",
    "a7.flatten()"
   ]
  },
  {
   "cell_type": "code",
   "execution_count": 93,
   "metadata": {},
   "outputs": [
    {
     "data": {
      "text/plain": [
       "array([[ 0,  1,  2,  3,  4,  5,  6,  7,  8,  9, 10, 11, 12, 13, 14, 15,\n",
       "        16, 17, 18, 19, 20, 21, 22, 23, 24, 25, 26, 27, 28, 29, 30, 31,\n",
       "        32, 33, 34, 35, 36, 37, 38, 39, 40, 41, 42, 43, 44]])"
      ]
     },
     "execution_count": 93,
     "metadata": {},
     "output_type": "execute_result"
    }
   ],
   "source": [
    "# Creating 2d array with one row\n",
    "a7.reshape(1,5*9)"
   ]
  },
  {
   "cell_type": "code",
   "execution_count": 32,
   "metadata": {},
   "outputs": [
    {
     "data": {
      "text/plain": [
       "array([ 0,  1,  2,  3,  4,  5,  6,  7,  8,  9, 10, 11, 12, 13, 14, 15, 16,\n",
       "       17, 18, 19, 20, 21, 22, 23, 24, 25, 26, 27, 28, 29, 30, 31, 32, 33,\n",
       "       34, 35, 36, 37, 38, 39, 40, 41, 42, 43, 44])"
      ]
     },
     "execution_count": 32,
     "metadata": {},
     "output_type": "execute_result"
    }
   ],
   "source": [
    "#Flatten using reshape\n",
    "a7.reshape(5*9)\n",
    "a7.reshape(-1)"
   ]
  },
  {
   "cell_type": "code",
   "execution_count": 96,
   "metadata": {
    "collapsed": true
   },
   "outputs": [
    {
     "data": {
      "text/plain": [
       "array([[ 0],\n",
       "       [ 1],\n",
       "       [ 2],\n",
       "       [ 3],\n",
       "       [ 4],\n",
       "       [ 5],\n",
       "       [ 6],\n",
       "       [ 7],\n",
       "       [ 8],\n",
       "       [ 9],\n",
       "       [10],\n",
       "       [11],\n",
       "       [12],\n",
       "       [13],\n",
       "       [14],\n",
       "       [15],\n",
       "       [16],\n",
       "       [17],\n",
       "       [18],\n",
       "       [19],\n",
       "       [20],\n",
       "       [21],\n",
       "       [22],\n",
       "       [23],\n",
       "       [24],\n",
       "       [25],\n",
       "       [26],\n",
       "       [27],\n",
       "       [28],\n",
       "       [29],\n",
       "       [30],\n",
       "       [31],\n",
       "       [32],\n",
       "       [33],\n",
       "       [34],\n",
       "       [35],\n",
       "       [36],\n",
       "       [37],\n",
       "       [38],\n",
       "       [39],\n",
       "       [40],\n",
       "       [41],\n",
       "       [42],\n",
       "       [43],\n",
       "       [44]])"
      ]
     },
     "execution_count": 96,
     "metadata": {},
     "output_type": "execute_result"
    }
   ],
   "source": [
    "# Creating 2d array with one column\n",
    "a7.reshape(5*9,1)"
   ]
  },
  {
   "cell_type": "code",
   "execution_count": 97,
   "metadata": {
    "collapsed": true
   },
   "outputs": [
    {
     "data": {
      "text/plain": [
       "array([ 0,  1,  2,  3,  4,  5,  6,  7,  8,  9, 10, 11, 12, 13, 14, 15, 16,\n",
       "       17, 18, 19, 20, 21, 22, 23, 24, 25, 26, 27, 28, 29, 30, 31, 32, 33,\n",
       "       34, 35, 36, 37, 38, 39, 40, 41, 42, 43, 44])"
      ]
     },
     "execution_count": 97,
     "metadata": {},
     "output_type": "execute_result"
    }
   ],
   "source": [
    "np.reshape(a7,(5*9))"
   ]
  },
  {
   "cell_type": "markdown",
   "metadata": {},
   "source": [
    "**np.swapaxes()**<br>\n",
    "Interchanging two axes in an array"
   ]
  },
  {
   "cell_type": "code",
   "execution_count": 105,
   "metadata": {},
   "outputs": [
    {
     "data": {
      "text/plain": [
       "(9, 5)"
      ]
     },
     "execution_count": 105,
     "metadata": {},
     "output_type": "execute_result"
    }
   ],
   "source": [
    "np.swapaxes(a7,0,1).shape"
   ]
  },
  {
   "cell_type": "code",
   "execution_count": 100,
   "metadata": {},
   "outputs": [
    {
     "data": {
      "text/plain": [
       "(5, 9)"
      ]
     },
     "execution_count": 100,
     "metadata": {},
     "output_type": "execute_result"
    }
   ],
   "source": [
    "a7.shape"
   ]
  },
  {
   "cell_type": "code",
   "execution_count": 102,
   "metadata": {},
   "outputs": [
    {
     "data": {
      "text/plain": [
       "(3, 5, 4)"
      ]
     },
     "execution_count": 102,
     "metadata": {},
     "output_type": "execute_result"
    }
   ],
   "source": [
    "a3.shape"
   ]
  },
  {
   "cell_type": "code",
   "execution_count": 104,
   "metadata": {},
   "outputs": [
    {
     "data": {
      "text/plain": [
       "(5, 3, 4)"
      ]
     },
     "execution_count": 104,
     "metadata": {},
     "output_type": "execute_result"
    }
   ],
   "source": [
    "np.swapaxes(a3,0,1).shape"
   ]
  },
  {
   "cell_type": "markdown",
   "metadata": {},
   "source": [
    "Logor Functions"
   ]
  },
  {
   "cell_type": "code",
   "execution_count": 106,
   "metadata": {},
   "outputs": [
    {
     "data": {
      "text/plain": [
       "0.6931471805599453"
      ]
     },
     "execution_count": 106,
     "metadata": {},
     "output_type": "execute_result"
    }
   ],
   "source": [
    "import math\n",
    "math.log(2)"
   ]
  },
  {
   "cell_type": "code",
   "execution_count": 107,
   "metadata": {},
   "outputs": [
    {
     "data": {
      "text/plain": [
       "0.6931471805599453"
      ]
     },
     "execution_count": 107,
     "metadata": {},
     "output_type": "execute_result"
    }
   ],
   "source": [
    "np.log(2)"
   ]
  },
  {
   "cell_type": "code",
   "execution_count": 108,
   "metadata": {},
   "outputs": [
    {
     "data": {
      "text/plain": [
       "array([0.69314718, 1.38629436, 1.79175947])"
      ]
     },
     "execution_count": 108,
     "metadata": {},
     "output_type": "execute_result"
    }
   ],
   "source": [
    "np.log([2,4,6])"
   ]
  },
  {
   "cell_type": "code",
   "execution_count": 111,
   "metadata": {},
   "outputs": [
    {
     "data": {
      "text/plain": [
       "1.0"
      ]
     },
     "execution_count": 111,
     "metadata": {},
     "output_type": "execute_result"
    }
   ],
   "source": [
    "np.log2(2)"
   ]
  },
  {
   "cell_type": "code",
   "execution_count": 112,
   "metadata": {},
   "outputs": [
    {
     "data": {
      "text/plain": [
       "0.6931471805599453"
      ]
     },
     "execution_count": 112,
     "metadata": {},
     "output_type": "execute_result"
    }
   ],
   "source": [
    "np.log1p(1) # np.log1p(x)=np.log(1+x)"
   ]
  },
  {
   "cell_type": "code",
   "execution_count": 113,
   "metadata": {},
   "outputs": [
    {
     "data": {
      "text/plain": [
       "0.0"
      ]
     },
     "execution_count": 113,
     "metadata": {},
     "output_type": "execute_result"
    }
   ],
   "source": [
    "np.log1p(0)"
   ]
  },
  {
   "cell_type": "markdown",
   "metadata": {},
   "source": [
    "Exponential"
   ]
  },
  {
   "cell_type": "code",
   "execution_count": 114,
   "metadata": {},
   "outputs": [
    {
     "data": {
      "text/plain": [
       "2.718281828459045"
      ]
     },
     "execution_count": 114,
     "metadata": {},
     "output_type": "execute_result"
    }
   ],
   "source": [
    "print(np.exp(1))\n",
    "print(np.log(np.exp(1)))"
   ]
  },
  {
   "cell_type": "code",
   "execution_count": 119,
   "metadata": {},
   "outputs": [
    {
     "data": {
      "text/plain": [
       "4.0"
      ]
     },
     "execution_count": 119,
     "metadata": {},
     "output_type": "execute_result"
    }
   ],
   "source": [
    "np.exp2(2)"
   ]
  },
  {
   "cell_type": "code",
   "execution_count": 120,
   "metadata": {},
   "outputs": [
    {
     "data": {
      "text/plain": [
       "6.38905609893065"
      ]
     },
     "execution_count": 120,
     "metadata": {},
     "output_type": "execute_result"
    }
   ],
   "source": [
    "np.expm1(2) #np.exp(x) - 1"
   ]
  },
  {
   "cell_type": "code",
   "execution_count": 124,
   "metadata": {},
   "outputs": [
    {
     "data": {
      "text/plain": [
       "6.38905609893065"
      ]
     },
     "execution_count": 124,
     "metadata": {},
     "output_type": "execute_result"
    }
   ],
   "source": [
    "np.exp(2) -1"
   ]
  },
  {
   "cell_type": "code",
   "execution_count": null,
   "metadata": {},
   "outputs": [],
   "source": []
  }
 ],
 "metadata": {
  "kernelspec": {
   "display_name": "Python 3",
   "language": "python",
   "name": "python3"
  },
  "language_info": {
   "codemirror_mode": {
    "name": "ipython",
    "version": 3
   },
   "file_extension": ".py",
   "mimetype": "text/x-python",
   "name": "python",
   "nbconvert_exporter": "python",
   "pygments_lexer": "ipython3",
   "version": "3.7.4"
  }
 },
 "nbformat": 4,
 "nbformat_minor": 2
}
