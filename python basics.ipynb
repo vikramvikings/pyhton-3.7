{
 "cells": [
  {
   "cell_type": "markdown",
   "metadata": {},
   "source": [
    "# introduction of python\n",
    "## intoduction of python\n"
   ]
  },
  {
   "cell_type": "markdown",
   "metadata": {},
   "source": [
    "<img src=\"imagee.jpg\" height=\"350px\" width=\"450px\">"
   ]
  },
  {
   "cell_type": "code",
   "execution_count": null,
   "metadata": {},
   "outputs": [],
   "source": [
    "pwd"
   ]
  },
  {
   "cell_type": "markdown",
   "metadata": {},
   "source": [
    "# python programming\n",
    "\n",
    "- python can be used as general programming\n",
    "- python more popular because of internal and external package\n",
    "- python can be used as functional programming, oop, scripting programming\n",
    "- python used in data science, machine learning and AI\n",
    "- data sciences\n",
    "    - pandas\n",
    "- visualization\n",
    "    - matlib, scipy\n",
    "- multi dimensional programming\n",
    "    - numpy"
   ]
  },
  {
   "cell_type": "code",
   "execution_count": null,
   "metadata": {},
   "outputs": [],
   "source": [
    "print(\"HITMAN\")"
   ]
  },
  {
   "cell_type": "code",
   "execution_count": null,
   "metadata": {},
   "outputs": [],
   "source": [
    "print(\"rohit\")\n",
    "print(\"hitman\")"
   ]
  },
  {
   "cell_type": "code",
   "execution_count": null,
   "metadata": {},
   "outputs": [],
   "source": [
    "print(\"rohit\",end=\" \")\n",
    "print(\"hitman\")"
   ]
  },
  {
   "cell_type": "markdown",
   "metadata": {},
   "source": [
    "## datatypes in python\n",
    "\n",
    "\n",
    "- int\n",
    "- float\n",
    "- string"
   ]
  },
  {
   "cell_type": "code",
   "execution_count": null,
   "metadata": {},
   "outputs": [],
   "source": [
    "x=100000000\n",
    "print(x,type(x))"
   ]
  },
  {
   "cell_type": "code",
   "execution_count": null,
   "metadata": {},
   "outputs": [],
   "source": [
    "s= 'a'\n",
    "s1= 'app'\n",
    "print(s,type(s))\n",
    "print(s1,type(s1))"
   ]
  },
  {
   "cell_type": "code",
   "execution_count": null,
   "metadata": {},
   "outputs": [],
   "source": []
  },
  {
   "cell_type": "code",
   "execution_count": null,
   "metadata": {},
   "outputs": [],
   "source": []
  },
  {
   "cell_type": "code",
   "execution_count": null,
   "metadata": {},
   "outputs": [],
   "source": []
  },
  {
   "cell_type": "markdown",
   "metadata": {},
   "source": [
    "### input fuctions\n",
    "- input() which reads the input console and gives the output interms of string format"
   ]
  },
  {
   "cell_type": "code",
   "execution_count": null,
   "metadata": {},
   "outputs": [],
   "source": [
    "s = input(\"enetr ur name\")\n",
    "print(s,type(s))"
   ]
  },
  {
   "cell_type": "code",
   "execution_count": null,
   "metadata": {},
   "outputs": [],
   "source": []
  },
  {
   "cell_type": "code",
   "execution_count": null,
   "metadata": {},
   "outputs": [],
   "source": []
  },
  {
   "cell_type": "markdown",
   "metadata": {},
   "source": [
    "###  type conversations\n",
    "\n",
    "- int()\n",
    "    * makes input into integer\n",
    "- float()\n",
    "    * input to float format\n",
    "- string()\n",
    "    * input to string"
   ]
  },
  {
   "cell_type": "code",
   "execution_count": null,
   "metadata": {},
   "outputs": [],
   "source": [
    "s = int (input(\"enetr ur name\"))\n",
    "print(s,type(s))"
   ]
  },
  {
   "cell_type": "code",
   "execution_count": null,
   "metadata": {},
   "outputs": [],
   "source": []
  },
  {
   "cell_type": "code",
   "execution_count": null,
   "metadata": {},
   "outputs": [],
   "source": []
  },
  {
   "cell_type": "code",
   "execution_count": null,
   "metadata": {},
   "outputs": [],
   "source": []
  },
  {
   "cell_type": "markdown",
   "metadata": {},
   "source": [
    "# conditional flow statements\n",
    "\n",
    "- conditional statements\n",
    "    * if-else\n",
    "- loop\n",
    "    * for, while"
   ]
  },
  {
   "cell_type": "code",
   "execution_count": null,
   "metadata": {},
   "outputs": [],
   "source": [
    "x = int(input())\n",
    "if x %2 ==0:\n",
    "    print(\"even\")\n",
    "else:\n",
    "    print(\"odd\")"
   ]
  },
  {
   "cell_type": "code",
   "execution_count": null,
   "metadata": {},
   "outputs": [],
   "source": [
    "# read character"
   ]
  },
  {
   "cell_type": "code",
   "execution_count": null,
   "metadata": {},
   "outputs": [],
   "source": [
    "x=input()\n",
    "if ord(x) >= 65 and ord(x) <=90:\n",
    "    print(\"upper case\")\n",
    "elif ord(x) >= 97 and ord(x) >=122:\n",
    "    print(\"lowercase\")"
   ]
  },
  {
   "cell_type": "code",
   "execution_count": null,
   "metadata": {},
   "outputs": [],
   "source": []
  },
  {
   "cell_type": "code",
   "execution_count": 20,
   "metadata": {},
   "outputs": [
    {
     "name": "stdout",
     "output_type": "stream",
     "text": [
      "q\n",
      "Q\n"
     ]
    }
   ],
   "source": [
    "# read the char and print the output in vice versa\n",
    "# a-A\n",
    "# A-a\n",
    "x=input()\n",
    "if ord(x) >=65 and ord(x) <=90:\n",
    "    print(chr(ord(x) + 32))\n",
    "elif ord(x)>=97 and ord(x)<=122:\n",
    "    print(chr(ord(x) - 32))"
   ]
  },
  {
   "cell_type": "code",
   "execution_count": null,
   "metadata": {},
   "outputs": [],
   "source": [
    "print(ord('A'))\n",
    "print(chr(65))"
   ]
  },
  {
   "cell_type": "code",
   "execution_count": null,
   "metadata": {},
   "outputs": [],
   "source": [
    "# while loop\n",
    "    - no-fixed\n",
    "# for loop\n",
    "    - fixed"
   ]
  },
  {
   "cell_type": "code",
   "execution_count": null,
   "metadata": {},
   "outputs": [],
   "source": [
    "# print the natural numbers from 1 to N\n",
    "n = int(input())\n",
    "i=1\n",
    "while i <= n:\n",
    "    print(i, end =' ')\n",
    "    i += 1"
   ]
  },
  {
   "cell_type": "code",
   "execution_count": null,
   "metadata": {},
   "outputs": [],
   "source": [
    "#print the divisors/factors of the given \n",
    "n= int (input())\n",
    "i=1\n",
    "while i<=n:\n",
    "    if n % i == 0:\n",
    "        print(i,end=' ')\n",
    "    i += 1    "
   ]
  },
  {
   "cell_type": "code",
   "execution_count": null,
   "metadata": {},
   "outputs": [],
   "source": [
    "#print the digit of the given number\n",
    "n=int(input())\n",
    "while n != 0:\n",
    "    print(n%10,end=' ')\n",
    "    n = n//10"
   ]
  },
  {
   "cell_type": "code",
   "execution_count": null,
   "metadata": {},
   "outputs": [],
   "source": [
    "for x in range(5):\n",
    "    print(x,end=' ')"
   ]
  },
  {
   "cell_type": "code",
   "execution_count": null,
   "metadata": {},
   "outputs": [],
   "source": [
    "for x in range(1,10):\n",
    "    print(x,end=' ')"
   ]
  },
  {
   "cell_type": "code",
   "execution_count": null,
   "metadata": {},
   "outputs": [],
   "source": [
    "for x in range(99,199,2):\n",
    "    print(x,end=' ')"
   ]
  },
  {
   "cell_type": "code",
   "execution_count": null,
   "metadata": {},
   "outputs": [],
   "source": [
    "for x in range(199,99,-2):\n",
    "    print(x,end=' ')"
   ]
  },
  {
   "cell_type": "code",
   "execution_count": null,
   "metadata": {},
   "outputs": [],
   "source": []
  },
  {
   "cell_type": "code",
   "execution_count": null,
   "metadata": {},
   "outputs": [],
   "source": []
  },
  {
   "cell_type": "markdown",
   "metadata": {},
   "source": [
    "# data structures\n",
    "- organizing the huge amount of data\n",
    "- makes the user to search , sort and filter the respective in simple manner\n",
    "- examples: databases"
   ]
  },
  {
   "cell_type": "markdown",
   "metadata": {},
   "source": [
    "# data structures in python\n",
    "- list\n",
    "- tuples\n",
    "- dictionary\n",
    "- sets"
   ]
  },
  {
   "cell_type": "markdown",
   "metadata": {},
   "source": [
    "# lists in python\n",
    "- common data structures in python\n",
    "- used to define the range/group of items under a same name\n",
    "- list can be same type or different type\n",
    "- list always enclosed in sq brackets\n",
    "- every list item will be seperated by comma(,)"
   ]
  },
  {
   "cell_type": "code",
   "execution_count": null,
   "metadata": {},
   "outputs": [],
   "source": [
    "li = [1,2,3,4,5]\n",
    "print(li)"
   ]
  },
  {
   "cell_type": "code",
   "execution_count": null,
   "metadata": {},
   "outputs": [],
   "source": [
    "# list with looping\n",
    "for x in range(len(li)):\n",
    "    print(li[x],end=' ')"
   ]
  },
  {
   "cell_type": "code",
   "execution_count": null,
   "metadata": {},
   "outputs": [],
   "source": [
    "l = [99,\"hyd\",'vocky',78,9.4]\n",
    "for i in range(len(l)):\n",
    "    print(l[i],end=' ')"
   ]
  },
  {
   "cell_type": "code",
   "execution_count": null,
   "metadata": {},
   "outputs": [],
   "source": []
  },
  {
   "cell_type": "code",
   "execution_count": null,
   "metadata": {},
   "outputs": [],
   "source": []
  },
  {
   "cell_type": "code",
   "execution_count": null,
   "metadata": {},
   "outputs": [],
   "source": [
    "#update and delete\n",
    "l = [99,\"hyd\",'vocky',78,9.4]\n",
    "print(l)"
   ]
  },
  {
   "cell_type": "code",
   "execution_count": null,
   "metadata": {},
   "outputs": [],
   "source": [
    "l[4]"
   ]
  },
  {
   "cell_type": "code",
   "execution_count": null,
   "metadata": {},
   "outputs": [],
   "source": [
    "print(l)"
   ]
  },
  {
   "cell_type": "code",
   "execution_count": null,
   "metadata": {},
   "outputs": [],
   "source": [
    "l = [99,\"hyd\",'vocky',78,9.4]\n",
    "del l[1]\n",
    "print(l)"
   ]
  },
  {
   "cell_type": "code",
   "execution_count": null,
   "metadata": {},
   "outputs": [],
   "source": [
    "li =[19,22,33,44]\n",
    "# list slicing\n",
    "print(li[1:4])\n",
    "print(li[:3])\n",
    "print(li[-4:-1])"
   ]
  },
  {
   "cell_type": "code",
   "execution_count": null,
   "metadata": {},
   "outputs": [],
   "source": [
    "# list of functions\n",
    "print(li)\n",
    "print(max(li))\n",
    "print(min(li))\n",
    "print(len(li))\n",
    "print(sum(li)//len(li))"
   ]
  },
  {
   "cell_type": "code",
   "execution_count": null,
   "metadata": {},
   "outputs": [],
   "source": [
    "### list methods\n",
    "## . --data binding operator\n",
    "li\n",
    "li.append(19)"
   ]
  },
  {
   "cell_type": "code",
   "execution_count": 54,
   "metadata": {},
   "outputs": [
    {
     "data": {
      "text/plain": [
       "[50]"
      ]
     },
     "execution_count": 54,
     "metadata": {},
     "output_type": "execute_result"
    }
   ],
   "source": [
    "li.insert(2,50)\n",
    "li"
   ]
  },
  {
   "cell_type": "code",
   "execution_count": 55,
   "metadata": {},
   "outputs": [
    {
     "data": {
      "text/plain": [
       "0"
      ]
     },
     "execution_count": 55,
     "metadata": {},
     "output_type": "execute_result"
    }
   ],
   "source": [
    "li.count(44)"
   ]
  },
  {
   "cell_type": "code",
   "execution_count": 56,
   "metadata": {},
   "outputs": [
    {
     "data": {
      "text/plain": [
       "[50]"
      ]
     },
     "execution_count": 56,
     "metadata": {},
     "output_type": "execute_result"
    }
   ],
   "source": [
    "li.reverse()\n",
    "li"
   ]
  },
  {
   "cell_type": "code",
   "execution_count": 52,
   "metadata": {},
   "outputs": [
    {
     "data": {
      "text/plain": [
       "[]"
      ]
     },
     "execution_count": 52,
     "metadata": {},
     "output_type": "execute_result"
    }
   ],
   "source": [
    "li.sort()\n",
    "li"
   ]
  },
  {
   "cell_type": "code",
   "execution_count": 53,
   "metadata": {},
   "outputs": [
    {
     "ename": "IndexError",
     "evalue": "pop from empty list",
     "output_type": "error",
     "traceback": [
      "\u001b[1;31m---------------------------------------------------------------------------\u001b[0m",
      "\u001b[1;31mIndexError\u001b[0m                                Traceback (most recent call last)",
      "\u001b[1;32m<ipython-input-53-8165f7111a5b>\u001b[0m in \u001b[0;36m<module>\u001b[1;34m\u001b[0m\n\u001b[1;32m----> 1\u001b[1;33m \u001b[0mli\u001b[0m\u001b[1;33m.\u001b[0m\u001b[0mpop\u001b[0m\u001b[1;33m(\u001b[0m\u001b[1;36m2\u001b[0m\u001b[1;33m)\u001b[0m\u001b[1;33m\u001b[0m\u001b[1;33m\u001b[0m\u001b[0m\n\u001b[0m\u001b[0;32m      2\u001b[0m \u001b[0mli\u001b[0m\u001b[1;33m\u001b[0m\u001b[1;33m\u001b[0m\u001b[0m\n",
      "\u001b[1;31mIndexError\u001b[0m: pop from empty list"
     ]
    }
   ],
   "source": [
    "li.pop(2)\n",
    "li"
   ]
  },
  {
   "cell_type": "code",
   "execution_count": null,
   "metadata": {},
   "outputs": [],
   "source": []
  },
  {
   "cell_type": "markdown",
   "metadata": {},
   "source": [
    "# functional programming\n",
    "- reuse code block can be called as fuction\n",
    "- remove the duplicate or code\n",
    "- programming more efficient\n",
    "- will decrease the lenghth of code -- def funName(): statements\n",
    "    * FunName is always is camel case\n",
    "    * parameter function is eample\n",
    "    * parameter fuction is optional\n",
    "    * IN python fuction can be defined with key word"
   ]
  },
  {
   "cell_type": "code",
   "execution_count": null,
   "metadata": {},
   "outputs": [],
   "source": [
    "# define the function\n",
    "def add():\n",
    "    x=5\n",
    "    y=9\n",
    "    print(x+y)\n",
    "    return\n",
    "add()"
   ]
  },
  {
   "cell_type": "code",
   "execution_count": null,
   "metadata": {},
   "outputs": [],
   "source": [
    "def square(x):\n",
    "    print(x*x)\n",
    "    return\n",
    "square(10)"
   ]
  },
  {
   "cell_type": "code",
   "execution_count": null,
   "metadata": {},
   "outputs": [],
   "source": [
    "def cube(x):\n",
    "    return(x*x*x)\n",
    "cube(4)"
   ]
  },
  {
   "cell_type": "code",
   "execution_count": null,
   "metadata": {},
   "outputs": [],
   "source": [
    "# fuction large num of list\n",
    "def secondlarge(li):\n",
    "    li.sort()\n",
    "    return li[-2]\n",
    "li =[19,22,33,44]\n",
    "secondlarge(li)"
   ]
  },
  {
   "cell_type": "code",
   "execution_count": null,
   "metadata": {},
   "outputs": [],
   "source": [
    "# function to find generic large value\n",
    "def genericlarge(li,n):\n",
    "    li.sort()\n",
    "    return li[-n]\n",
    "li =[19,22,33,44]\n",
    "genericlarge(li,3)\n"
   ]
  },
  {
   "cell_type": "code",
   "execution_count": null,
   "metadata": {},
   "outputs": [],
   "source": []
  },
  {
   "cell_type": "markdown",
   "metadata": {},
   "source": [
    "## dictionaries"
   ]
  },
  {
   "cell_type": "code",
   "execution_count": null,
   "metadata": {},
   "outputs": [],
   "source": [
    "d1={1:\"vicky\"}\n",
    "print(d1)"
   ]
  },
  {
   "cell_type": "code",
   "execution_count": null,
   "metadata": {},
   "outputs": [],
   "source": [
    "def dictionaries():\n",
    "    dict={1:\"vicky\",2:\"zyc\",3:\"sai\"}\n",
    "    print(dict)\n",
    "    print(dict[2])\n",
    "    dict.keys()\n",
    "    dict.values()\n",
    "dictionaries()"
   ]
  },
  {
   "cell_type": "code",
   "execution_count": null,
   "metadata": {},
   "outputs": [],
   "source": [
    "dict[4]=\"vikram\"\n",
    "print(dict)"
   ]
  },
  {
   "cell_type": "code",
   "execution_count": null,
   "metadata": {},
   "outputs": [],
   "source": [
    "dict.pop(2)\n",
    "print(dict)"
   ]
  },
  {
   "cell_type": "code",
   "execution_count": null,
   "metadata": {},
   "outputs": [],
   "source": [
    "dict.pop(\"vikram\")\n",
    "print(dict)"
   ]
  },
  {
   "cell_type": "code",
   "execution_count": null,
   "metadata": {},
   "outputs": [],
   "source": []
  },
  {
   "cell_type": "code",
   "execution_count": null,
   "metadata": {},
   "outputs": [],
   "source": [
    "def dict2(my_list):\n",
    "    ferq={}\n",
    "    for item in my_lists:\n",
    "        if (item in freq):\n",
    "            freq[item]+=1\n",
    "        else:\n",
    "            freq[item]=1\n",
    "    for key, values in freq.items():\n",
    "        print(\"%d:%d\"%(key,values))\n",
    "if __name__ == \"__main__\":\n",
    "    my_list[1,vicky,2,sai,3,dev]\n",
    "dict2(my_list)"
   ]
  },
  {
   "cell_type": "code",
   "execution_count": null,
   "metadata": {},
   "outputs": [],
   "source": []
  },
  {
   "cell_type": "code",
   "execution_count": null,
   "metadata": {},
   "outputs": [],
   "source": []
  },
  {
   "cell_type": "code",
   "execution_count": null,
   "metadata": {},
   "outputs": [],
   "source": [
    "dict1={}\n",
    "l=input()\n",
    "l=l.split(',')\n",
    "for i in l:\n",
    "    t=i.split(':')\n",
    "    dict1[t[0]]=t[1]\n",
    "print(dict1)\n",
    "    "
   ]
  },
  {
   "cell_type": "code",
   "execution_count": null,
   "metadata": {},
   "outputs": [],
   "source": []
  },
  {
   "cell_type": "code",
   "execution_count": null,
   "metadata": {},
   "outputs": [],
   "source": []
  },
  {
   "cell_type": "markdown",
   "metadata": {},
   "source": [
    "# Tuples"
   ]
  },
  {
   "cell_type": "code",
   "execution_count": null,
   "metadata": {},
   "outputs": [],
   "source": [
    "tup=(1,2,4)\n",
    "tup1=(\"vicky\",)\n",
    "print(tup[1])\n",
    "print(tup1[0])\n",
    "print(type(tup1))\n",
    "print(list(tup))"
   ]
  },
  {
   "cell_type": "code",
   "execution_count": null,
   "metadata": {},
   "outputs": [],
   "source": [
    "print(tup)"
   ]
  },
  {
   "cell_type": "code",
   "execution_count": null,
   "metadata": {},
   "outputs": [],
   "source": [
    "#tuple membership\n",
    "\n",
    "print('v' in 'vicky')"
   ]
  },
  {
   "cell_type": "code",
   "execution_count": null,
   "metadata": {},
   "outputs": [],
   "source": [
    "tup4=(1,2,4,[5,6])\n",
    "print(tup4)"
   ]
  },
  {
   "cell_type": "code",
   "execution_count": null,
   "metadata": {},
   "outputs": [],
   "source": []
  },
  {
   "cell_type": "code",
   "execution_count": null,
   "metadata": {},
   "outputs": [],
   "source": [
    "tup=(\"1\",\"2\",\"4\",\"5\")[-3]\n",
    "print(tup)"
   ]
  },
  {
   "cell_type": "code",
   "execution_count": null,
   "metadata": {},
   "outputs": [],
   "source": []
  },
  {
   "cell_type": "code",
   "execution_count": null,
   "metadata": {},
   "outputs": [],
   "source": [
    "l=(1,2,3,4,5,6,7)[::2]\n",
    "print(l)"
   ]
  },
  {
   "cell_type": "code",
   "execution_count": null,
   "metadata": {},
   "outputs": [],
   "source": [
    "l=(0,1,2,3,4,5,6,7)[::2]\n",
    "print(l)"
   ]
  },
  {
   "cell_type": "code",
   "execution_count": 2,
   "metadata": {},
   "outputs": [
    {
     "name": "stdout",
     "output_type": "stream",
     "text": [
      "ai\n",
      "wetha\n",
      "wathi\n",
      "asi\n"
     ]
    }
   ],
   "source": [
    "#list should contain 3 names and remove the first letter in each word\n",
    "x=[\"sai\",\"swetha\",\"swathi\",\"sasi\"]\n",
    "for i in x:\n",
    "    if (i[0]== \"s\"):\n",
    "        i= \"\" .join(list(i)[1::])\n",
    "    print(i)"
   ]
  },
  {
   "cell_type": "code",
   "execution_count": 4,
   "metadata": {},
   "outputs": [
    {
     "name": "stdout",
     "output_type": "stream",
     "text": [
      "[',', ('a', 'b'), ('a', 'b', 'c'), 'd']\n"
     ]
    }
   ],
   "source": [
    "\n",
    " \n",
    "tuples=[(),(\",\"),(),('a','b'),('a','b','c'),('d')]\n",
    "for i in tuples:\n",
    "    \n",
    "    if (len(i)==0):\n",
    "        tuples.remove(i)\n",
    "print(tuples)\n",
    "\n"
   ]
  },
  {
   "cell_type": "code",
   "execution_count": null,
   "metadata": {},
   "outputs": [],
   "source": []
  },
  {
   "cell_type": "code",
   "execution_count": null,
   "metadata": {},
   "outputs": [],
   "source": []
  },
  {
   "cell_type": "markdown",
   "metadata": {},
   "source": [
    "## Tuples\n",
    "- tuples are similar to list\n",
    "- used to read the object data\n",
    "- list is mutable and tuples are immutable\n",
    "- list object are used for insert update, delete\n",
    "- tuple objet can only support for reading \n",
    "- defined with parenthesis()"
   ]
  },
  {
   "cell_type": "code",
   "execution_count": 1,
   "metadata": {},
   "outputs": [
    {
     "name": "stdout",
     "output_type": "stream",
     "text": [
      "(1, 2, 3, 4)\n",
      "<class 'tuple'>\n"
     ]
    }
   ],
   "source": [
    "t1=(1,2,3,4)\n",
    "print(t1)\n",
    "print(type(t1))"
   ]
  },
  {
   "cell_type": "code",
   "execution_count": 2,
   "metadata": {},
   "outputs": [
    {
     "data": {
      "text/plain": [
       "(1, 2, 3)"
      ]
     },
     "execution_count": 2,
     "metadata": {},
     "output_type": "execute_result"
    }
   ],
   "source": [
    "t1[:3]"
   ]
  },
  {
   "cell_type": "code",
   "execution_count": 3,
   "metadata": {},
   "outputs": [
    {
     "data": {
      "text/plain": [
       "()"
      ]
     },
     "execution_count": 3,
     "metadata": {},
     "output_type": "execute_result"
    }
   ],
   "source": [
    "t1[]"
   ]
  },
  {
   "cell_type": "code",
   "execution_count": 4,
   "metadata": {},
   "outputs": [
    {
     "ename": "AttributeError",
     "evalue": "'tuple' object has no attribute 'pop'",
     "output_type": "error",
     "traceback": [
      "\u001b[1;31m---------------------------------------------------------------------------\u001b[0m",
      "\u001b[1;31mAttributeError\u001b[0m                            Traceback (most recent call last)",
      "\u001b[1;32m<ipython-input-4-becc35787648>\u001b[0m in \u001b[0;36m<module>\u001b[1;34m\u001b[0m\n\u001b[1;32m----> 1\u001b[1;33m \u001b[0mt1\u001b[0m\u001b[1;33m.\u001b[0m\u001b[0mpop\u001b[0m\u001b[1;33m(\u001b[0m\u001b[1;33m)\u001b[0m\u001b[1;33m\u001b[0m\u001b[1;33m\u001b[0m\u001b[0m\n\u001b[0m",
      "\u001b[1;31mAttributeError\u001b[0m: 'tuple' object has no attribute 'pop'"
     ]
    }
   ],
   "source": [
    "t1.pop()"
   ]
  },
  {
   "cell_type": "code",
   "execution_count": 6,
   "metadata": {},
   "outputs": [
    {
     "name": "stdout",
     "output_type": "stream",
     "text": [
      "(1, 2, 3)\n"
     ]
    }
   ],
   "source": [
    "print(t1[0:-1])"
   ]
  },
  {
   "cell_type": "code",
   "execution_count": 7,
   "metadata": {},
   "outputs": [
    {
     "ename": "TypeError",
     "evalue": "'tuple' object does not support item assignment",
     "output_type": "error",
     "traceback": [
      "\u001b[1;31m---------------------------------------------------------------------------\u001b[0m",
      "\u001b[1;31mTypeError\u001b[0m                                 Traceback (most recent call last)",
      "\u001b[1;32m<ipython-input-7-412a9a9144ee>\u001b[0m in \u001b[0;36m<module>\u001b[1;34m\u001b[0m\n\u001b[1;32m----> 1\u001b[1;33m \u001b[0mt1\u001b[0m\u001b[1;33m[\u001b[0m\u001b[1;36m1\u001b[0m\u001b[1;33m]\u001b[0m\u001b[1;33m=\u001b[0m\u001b[1;36m1990\u001b[0m\u001b[1;33m\u001b[0m\u001b[1;33m\u001b[0m\u001b[0m\n\u001b[0m",
      "\u001b[1;31mTypeError\u001b[0m: 'tuple' object does not support item assignment"
     ]
    }
   ],
   "source": [
    "t1[1]=1990"
   ]
  },
  {
   "cell_type": "code",
   "execution_count": 8,
   "metadata": {},
   "outputs": [
    {
     "ename": "TypeError",
     "evalue": "'tuple' object doesn't support item deletion",
     "output_type": "error",
     "traceback": [
      "\u001b[1;31m---------------------------------------------------------------------------\u001b[0m",
      "\u001b[1;31mTypeError\u001b[0m                                 Traceback (most recent call last)",
      "\u001b[1;32m<ipython-input-8-cad7b2ca8ce3>\u001b[0m in \u001b[0;36m<module>\u001b[1;34m\u001b[0m\n\u001b[1;32m----> 1\u001b[1;33m \u001b[1;32mdel\u001b[0m \u001b[0mt1\u001b[0m\u001b[1;33m[\u001b[0m\u001b[1;36m2\u001b[0m\u001b[1;33m]\u001b[0m\u001b[1;33m\u001b[0m\u001b[1;33m\u001b[0m\u001b[0m\n\u001b[0m",
      "\u001b[1;31mTypeError\u001b[0m: 'tuple' object doesn't support item deletion"
     ]
    }
   ],
   "source": [
    "del t1[2]"
   ]
  },
  {
   "cell_type": "code",
   "execution_count": 11,
   "metadata": {},
   "outputs": [
    {
     "name": "stdout",
     "output_type": "stream",
     "text": [
      "1 2 3 4 "
     ]
    }
   ],
   "source": [
    "for i in range(len(t1)):\n",
    "    print(t1[i],end=' ')"
   ]
  },
  {
   "cell_type": "code",
   "execution_count": null,
   "metadata": {},
   "outputs": [],
   "source": []
  },
  {
   "cell_type": "markdown",
   "metadata": {},
   "source": [
    "# Dictionaries\n",
    "\n",
    "- general purpose data structure in python\n",
    "- dict object basically consists of keys and value\n",
    "- dict object consists of unique value\n",
    "- should be enclosed in curly braces-{}\n",
    "- one pair of key and value separated by comma (,)\n",
    "- key and value separated by colon (:)"
   ]
  },
  {
   "cell_type": "code",
   "execution_count": null,
   "metadata": {},
   "outputs": [],
   "source": []
  },
  {
   "cell_type": "code",
   "execution_count": 13,
   "metadata": {},
   "outputs": [
    {
     "name": "stdout",
     "output_type": "stream",
     "text": [
      "{'name': 'vicky', 'num': '1234', 'email': 'abcd@gmail.com'}\n"
     ]
    }
   ],
   "source": [
    "d1={\"name\":\"vicky\",\"num\":\"1234\",\"email\":\"abcd@gmail.com\"}\n",
    "print(d1)"
   ]
  },
  {
   "cell_type": "code",
   "execution_count": 17,
   "metadata": {},
   "outputs": [
    {
     "name": "stdout",
     "output_type": "stream",
     "text": [
      "vicky\n"
     ]
    }
   ],
   "source": [
    "print(d1[\"name\"])"
   ]
  },
  {
   "cell_type": "code",
   "execution_count": 18,
   "metadata": {},
   "outputs": [
    {
     "name": "stdout",
     "output_type": "stream",
     "text": [
      "dict_keys(['name', 'num', 'email'])\n"
     ]
    }
   ],
   "source": [
    "li=[]\n",
    "li=d1.keys()\n",
    "print(li)"
   ]
  },
  {
   "cell_type": "code",
   "execution_count": 14,
   "metadata": {},
   "outputs": [
    {
     "data": {
      "text/plain": [
       "3"
      ]
     },
     "execution_count": 14,
     "metadata": {},
     "output_type": "execute_result"
    }
   ],
   "source": [
    "len(d1.keys())"
   ]
  },
  {
   "cell_type": "code",
   "execution_count": 20,
   "metadata": {},
   "outputs": [
    {
     "data": {
      "text/plain": [
       "['name', 'num', 'email']"
      ]
     },
     "execution_count": 20,
     "metadata": {},
     "output_type": "execute_result"
    }
   ],
   "source": [
    "li=[]\n",
    "for i in (d1.keys()):\n",
    "    li.append(i)\n",
    "li"
   ]
  },
  {
   "cell_type": "code",
   "execution_count": 22,
   "metadata": {},
   "outputs": [
    {
     "name": "stdout",
     "output_type": "stream",
     "text": [
      "['vicky', '1234', 'abcd@gmail.com']\n"
     ]
    }
   ],
   "source": [
    "li_values=[]\n",
    "li_values =list(d1.values())\n",
    "print(li_values)"
   ]
  },
  {
   "cell_type": "code",
   "execution_count": 23,
   "metadata": {},
   "outputs": [
    {
     "name": "stdout",
     "output_type": "stream",
     "text": [
      "{'name': 'vikram', 'num': '1234', 'email': 'abcd@gmail.com'}\n"
     ]
    }
   ],
   "source": [
    "d1[\"name\"]=\"vikram\"\n",
    "print(d1)"
   ]
  },
  {
   "cell_type": "code",
   "execution_count": 28,
   "metadata": {},
   "outputs": [
    {
     "ename": "KeyError",
     "evalue": "'email'",
     "output_type": "error",
     "traceback": [
      "\u001b[1;31m---------------------------------------------------------------------------\u001b[0m",
      "\u001b[1;31mKeyError\u001b[0m                                  Traceback (most recent call last)",
      "\u001b[1;32m<ipython-input-28-0f302617dbed>\u001b[0m in \u001b[0;36m<module>\u001b[1;34m\u001b[0m\n\u001b[1;32m----> 1\u001b[1;33m \u001b[1;32mdel\u001b[0m \u001b[0md1\u001b[0m\u001b[1;33m[\u001b[0m\u001b[1;34m\"email\"\u001b[0m\u001b[1;33m]\u001b[0m\u001b[1;33m\u001b[0m\u001b[1;33m\u001b[0m\u001b[0m\n\u001b[0m",
      "\u001b[1;31mKeyError\u001b[0m: 'email'"
     ]
    }
   ],
   "source": [
    "del d1[\"email\"]"
   ]
  },
  {
   "cell_type": "code",
   "execution_count": 25,
   "metadata": {},
   "outputs": [
    {
     "name": "stdout",
     "output_type": "stream",
     "text": [
      "{'name': 'vikram', 'num': '1234'}\n"
     ]
    }
   ],
   "source": [
    "print(d1)"
   ]
  },
  {
   "cell_type": "code",
   "execution_count": 26,
   "metadata": {},
   "outputs": [
    {
     "data": {
      "text/plain": [
       "False"
      ]
     },
     "execution_count": 26,
     "metadata": {},
     "output_type": "execute_result"
    }
   ],
   "source": [
    "\"vicky\" in li"
   ]
  },
  {
   "cell_type": "markdown",
   "metadata": {},
   "source": [
    "# contact application\n",
    "  ** list,tuple,dict**\n",
    "* add a new contact details\n",
    "* search contact\n",
    "* sort "
   ]
  },
  {
   "cell_type": "code",
   "execution_count": 43,
   "metadata": {},
   "outputs": [
    {
     "name": "stdout",
     "output_type": "stream",
     "text": [
      "vicky inserted successfull\n",
      "sai inserted successfull\n",
      "vicky already existed\n",
      "dev inserted successfull\n",
      "krishna inserted successfull\n",
      "rakh inserted successfull\n",
      "raj inserted successfull\n",
      "rohit inserted successfull\n",
      "samaira inserted successfull\n"
     ]
    }
   ],
   "source": [
    "contacts ={}  #empty dict object\n",
    "def addcontact(name,phone):\n",
    "    if name not in contacts:\n",
    "        contacts[name]=phone\n",
    "        print(name, \"inserted successfull\")\n",
    "    else:\n",
    "        print(name, \"already existed\")\n",
    "    return\n",
    "addcontact('vicky',1224)\n",
    "addcontact('sai',1234)\n",
    "addcontact('vicky',2345)\n",
    "addcontact('dev',4567)\n",
    "addcontact('krishna',95734)\n",
    "addcontact('rakh',464839)\n",
    "addcontact('raj',67888)\n",
    "addcontact('rohit',62322)\n",
    "addcontact('samaira',34556)"
   ]
  },
  {
   "cell_type": "code",
   "execution_count": 31,
   "metadata": {},
   "outputs": [
    {
     "data": {
      "text/plain": [
       "{'vicky': 1224, 'sai': 1234}"
      ]
     },
     "execution_count": 31,
     "metadata": {},
     "output_type": "execute_result"
    }
   ],
   "source": [
    "contacts"
   ]
  },
  {
   "cell_type": "code",
   "execution_count": 32,
   "metadata": {},
   "outputs": [
    {
     "name": "stdout",
     "output_type": "stream",
     "text": [
      "('vicky', ':', 1224)\n",
      "contacts is not present\n"
     ]
    }
   ],
   "source": [
    "def searchcontacts(name):\n",
    "    if name in contacts:\n",
    "        return name, ':', contacts[name]\n",
    "    return \"contacts is not present\"\n",
    "print(searchcontacts('vicky'))\n",
    "print(searchcontacts('vikram'))\n"
   ]
  },
  {
   "cell_type": "code",
   "execution_count": 36,
   "metadata": {},
   "outputs": [
    {
     "name": "stdout",
     "output_type": "stream",
     "text": [
      "vicky updated\n",
      "vikram not exists\n"
     ]
    }
   ],
   "source": [
    "def editcontact(name,phone):\n",
    "    if name in contacts:\n",
    "        contacts[name]=phone\n",
    "        print(name,\"updated\")\n",
    "    else:\n",
    "        print(name,\"not exists\")\n",
    "    return\n",
    "editcontact('vicky', 12242)\n",
    "editcontact('vikram',1223445)\n"
   ]
  },
  {
   "cell_type": "code",
   "execution_count": 38,
   "metadata": {},
   "outputs": [
    {
     "name": "stdout",
     "output_type": "stream",
     "text": [
      "vicky deleted successfully\n",
      "vikram not exists\n"
     ]
    }
   ],
   "source": [
    "def deletecontacts(name):\n",
    "    if name in contacts:\n",
    "        del contacts[name]\n",
    "        print(name,\"deleted successfully\")\n",
    "    else:\n",
    "        print(name,\"not exists\")\n",
    "    return\n",
    "deletecontacts('vicky')\n",
    "deletecontacts('vikram')"
   ]
  },
  {
   "cell_type": "code",
   "execution_count": 39,
   "metadata": {},
   "outputs": [
    {
     "data": {
      "text/plain": [
       "{'sai': 1234}"
      ]
     },
     "execution_count": 39,
     "metadata": {},
     "output_type": "execute_result"
    }
   ],
   "source": [
    "contacts"
   ]
  },
  {
   "cell_type": "code",
   "execution_count": 58,
   "metadata": {},
   "outputs": [
    {
     "data": {
      "text/plain": [
       "8"
      ]
     },
     "execution_count": 58,
     "metadata": {},
     "output_type": "execute_result"
    }
   ],
   "source": [
    "len(contacts)"
   ]
  },
  {
   "cell_type": "code",
   "execution_count": 82,
   "metadata": {},
   "outputs": [
    {
     "name": "stdout",
     "output_type": "stream",
     "text": [
      "['vicky', 'sai', 'dev', 'krishna', 'rakh', 'raj', 'rohit', 'samaira']\n",
      "dev : 4567\n",
      "krishna : 95734\n",
      "raj : 67888\n",
      "rakh : 464839\n",
      "rohit : 62322\n",
      "sai : 1234\n",
      "samaira : 34556\n",
      "vicky : 1224\n"
     ]
    }
   ],
   "source": [
    "def sortcontacts():\n",
    "    li=[]\n",
    "    li=list(contacts.keys())\n",
    "    print(li)\n",
    "    li.sort()\n",
    "    for i in li: \n",
    "        print(i,\":\",contacts[i])\n",
    "sortcontacts()"
   ]
  },
  {
   "cell_type": "code",
   "execution_count": null,
   "metadata": {},
   "outputs": [],
   "source": []
  },
  {
   "cell_type": "code",
   "execution_count": null,
   "metadata": {},
   "outputs": [],
   "source": [
    "def doublecontacts():\n",
    "    "
   ]
  },
  {
   "cell_type": "code",
   "execution_count": null,
   "metadata": {},
   "outputs": [],
   "source": []
  },
  {
   "cell_type": "code",
   "execution_count": null,
   "metadata": {},
   "outputs": [],
   "source": []
  },
  {
   "cell_type": "markdown",
   "metadata": {},
   "source": [
    "# sets"
   ]
  },
  {
   "cell_type": "code",
   "execution_count": 4,
   "metadata": {},
   "outputs": [
    {
     "data": {
      "text/plain": [
       "{1, 2, 3, 4, 5}"
      ]
     },
     "execution_count": 4,
     "metadata": {},
     "output_type": "execute_result"
    }
   ],
   "source": [
    "s={1,2,3,4,5}\n",
    "s"
   ]
  },
  {
   "cell_type": "code",
   "execution_count": 2,
   "metadata": {},
   "outputs": [
    {
     "data": {
      "text/plain": [
       "{1, 2, 3, 4, 5, 6}"
      ]
     },
     "execution_count": 2,
     "metadata": {},
     "output_type": "execute_result"
    }
   ],
   "source": [
    "s.add(6)\n",
    "s"
   ]
  },
  {
   "cell_type": "code",
   "execution_count": 6,
   "metadata": {},
   "outputs": [
    {
     "data": {
      "text/plain": [
       "{1, 2, 3, 4, 5, 6, 8, 9, 19}"
      ]
     },
     "execution_count": 6,
     "metadata": {},
     "output_type": "execute_result"
    }
   ],
   "source": [
    "s.update({8,9,19})\n",
    "s"
   ]
  },
  {
   "cell_type": "code",
   "execution_count": 9,
   "metadata": {},
   "outputs": [
    {
     "data": {
      "text/plain": [
       "{1, 2, 3, 4, 5, 6, 8, 9, 19, 55, 66, 77, 101, 201}"
      ]
     },
     "execution_count": 9,
     "metadata": {},
     "output_type": "execute_result"
    }
   ],
   "source": [
    "s.update([1,2],{101:\"hi\",201:\"hello\"},(55,66,77))    #using update we can add any data structure like list,dict,tuple\n",
    "s"
   ]
  },
  {
   "cell_type": "code",
   "execution_count": 10,
   "metadata": {},
   "outputs": [
    {
     "data": {
      "text/plain": [
       "{1, 3, 4, 5, 6, 8, 9, 19, 55, 66, 77, 101, 201}"
      ]
     },
     "execution_count": 10,
     "metadata": {},
     "output_type": "execute_result"
    }
   ],
   "source": [
    "s.discard(2)\n",
    "s"
   ]
  },
  {
   "cell_type": "code",
   "execution_count": 11,
   "metadata": {},
   "outputs": [
    {
     "data": {
      "text/plain": [
       "{1, 4, 5, 6, 8, 9, 19, 55, 66, 77, 101, 201}"
      ]
     },
     "execution_count": 11,
     "metadata": {},
     "output_type": "execute_result"
    }
   ],
   "source": [
    "s.remove(3)\n",
    "s"
   ]
  },
  {
   "cell_type": "code",
   "execution_count": 7,
   "metadata": {},
   "outputs": [
    {
     "data": {
      "text/plain": [
       "{4, 5}"
      ]
     },
     "execution_count": 7,
     "metadata": {},
     "output_type": "execute_result"
    }
   ],
   "source": [
    "s.pop()\n",
    "s\n"
   ]
  },
  {
   "cell_type": "code",
   "execution_count": null,
   "metadata": {},
   "outputs": [],
   "source": []
  },
  {
   "cell_type": "code",
   "execution_count": 12,
   "metadata": {},
   "outputs": [
    {
     "name": "stdout",
     "output_type": "stream",
     "text": [
      "manimani\n",
      "waniwani"
     ]
    }
   ],
   "source": [
    "def replace():\n",
    "    st=str(input())\n",
    "    for i in st:\n",
    "        if i==\"M\" or i==\"m\":\n",
    "            print(\"w\",end='')\n",
    "        else:\n",
    "            print(i,end=\"\")\n",
    "replace()"
   ]
  },
  {
   "cell_type": "code",
   "execution_count": 20,
   "metadata": {},
   "outputs": [
    {
     "name": "stdout",
     "output_type": "stream",
     "text": [
      "sjcbshKJDKACKACSKSKC\n",
      "the upper case letters is:14\n"
     ]
    }
   ],
   "source": [
    "def countuppercase(string):\n",
    "    upper=0\n",
    "    for i in range(len(string)):\n",
    "           if ord(string[i])>=65 and ord(string[i])<=90:\n",
    "                upper+=1\n",
    "    print('the upper case letters is:%s'%upper)\n",
    "string = input()\n",
    "countuppercase(string)"
   ]
  },
  {
   "cell_type": "code",
   "execution_count": null,
   "metadata": {},
   "outputs": [],
   "source": []
  },
  {
   "cell_type": "code",
   "execution_count": null,
   "metadata": {},
   "outputs": [],
   "source": []
  },
  {
   "cell_type": "code",
   "execution_count": null,
   "metadata": {},
   "outputs": [],
   "source": []
  },
  {
   "cell_type": "markdown",
   "metadata": {},
   "source": [
    "### Files\n",
    "\n",
    "- Write the file data\n",
    "- append then file data\n",
    "- read the file data\n",
    "- word count\n",
    "- character count\n",
    "- some specific examples on characters and words\n",
    "\n",
    "- file modes\n",
    "  * W(if the file does not exists then it will create file and will put some to the file), if the file is already exists then it is rewrite the existing file data \n",
    "  * a (if the file does not exists then it will create a file and data will be written),  if the file is already exists then the data will be written from last line  "
   ]
  },
  {
   "cell_type": "code",
   "execution_count": null,
   "metadata": {},
   "outputs": [],
   "source": []
  },
  {
   "cell_type": "code",
   "execution_count": 40,
   "metadata": {},
   "outputs": [
    {
     "name": "stdout",
     "output_type": "stream",
     "text": [
      "file is created and dat has to written to the file\n"
     ]
    }
   ],
   "source": [
    "def createfile(fileName):\n",
    "    f = open(fileName,'w')\n",
    "    for i in range(10):\n",
    "        f.write('this line\\n')\n",
    "        #print('this line',i)\n",
    "    print('file is created and dat has to written to the file')\n",
    "    return\n",
    "\n",
    "createfile('file.txt')\n"
   ]
  },
  {
   "cell_type": "code",
   "execution_count": 41,
   "metadata": {},
   "outputs": [],
   "source": [
    "def testfileData(fileName):\n",
    "    f=open(fileName,'w')\n",
    "    f.write('new line data\\n')\n",
    "    return\n",
    "testfileData('file.txt')"
   ]
  },
  {
   "cell_type": "code",
   "execution_count": 57,
   "metadata": {},
   "outputs": [
    {
     "name": "stdout",
     "output_type": "stream",
     "text": [
      "data is append\n"
     ]
    }
   ],
   "source": [
    "def appendData(fileName):\n",
    "    \n",
    "    f=open(fileName,'a')\n",
    "    f.write('dhyanahitha org\\n')\n",
    "    print('data is append')\n",
    "    return\n",
    "appendData('file2.txt')"
   ]
  },
  {
   "cell_type": "code",
   "execution_count": 18,
   "metadata": {},
   "outputs": [
    {
     "name": "stdout",
     "output_type": "stream",
     "text": [
      " Volume in drive C is Windows\n",
      " Volume Serial Number is F8D0-9F99\n",
      "\n",
      " Directory of C:\\Users\\Vikki\n",
      "\n",
      "09-01-2020  15:02    <DIR>          .\n",
      "09-01-2020  15:02    <DIR>          ..\n",
      "20-12-2019  18:28    <DIR>          .anaconda\n",
      "25-08-2019  15:12    <DIR>          .android\n",
      "13-04-2018  20:50    <DIR>          .AndroidStudio2.3\n",
      "03-01-2020  12:25                77 .bash_history\n",
      "20-12-2019  18:45    <DIR>          .conda\n",
      "20-12-2019  18:46                43 .condarc\n",
      "03-01-2020  11:14               212 .gitconfig\n",
      "18-04-2018  12:43    <DIR>          .gradle\n",
      "16-05-2018  20:49    <DIR>          .idea\n",
      "06-08-2019  17:22    <DIR>          .InstallAnywhere\n",
      "07-01-2020  11:14    <DIR>          .ipynb_checkpoints\n",
      "29-06-2019  15:59    <DIR>          .ipython\n",
      "23-12-2019  10:31    <DIR>          .jupyter\n",
      "29-06-2019  15:59    <DIR>          .matplotlib\n",
      "20-05-2019  16:50    <DIR>          .nbi\n",
      "05-08-2019  20:13    <DIR>          .netbeans-derby\n",
      "06-08-2019  17:20    <DIR>          .oracle_jre_usage\n",
      "08-07-2019  09:54    <DIR>          .spyder\n",
      "02-01-2020  19:01    <DIR>          3D Objects\n",
      "26-12-2019  14:35    <DIR>          Anaconda2\n",
      "20-12-2019  18:16    <DIR>          Anaconda3\n",
      "19-07-2018  15:59    <DIR>          AndroidStudioProjects\n",
      "08-07-2019  12:00    <DIR>          Aptana Rubles\n",
      "21-05-2019  15:33            24,559 bankimage.jpg\n",
      "02-01-2020  19:01    <DIR>          Contacts\n",
      "09-01-2020  12:22    <DIR>          Desktop\n",
      "09-01-2020  12:18    <DIR>          Documents\n",
      "09-01-2020  12:23    <DIR>          Downloads\n",
      "12-07-2019  17:16    <DIR>          E\n",
      "02-01-2020  19:01    <DIR>          Favorites\n",
      "09-01-2020  15:04                32 file.txt\n",
      "09-01-2020  15:02                 0 file1.txt\n",
      "09-01-2020  14:57                 0 fileName\n",
      "30-03-2018  19:58    <DIR>          HP\n",
      "24-06-2018  12:59           388,009 imagee.jpg\n",
      "12-09-2018  21:31    <DIR>          javame-sdk\n",
      "02-01-2020  19:01    <DIR>          Links\n",
      "02-01-2020  19:01    <DIR>          Music\n",
      "26-11-2019  08:33    <DIR>          OneDrive\n",
      "04-01-2020  11:41    <DIR>          Pictures\n",
      "29-08-2019  21:48             3,993 procedures.sql\n",
      "07-01-2020  10:39             8,678 programs15.ipynb\n",
      "09-01-2020  15:02            46,368 python basics.ipynb\n",
      "03-01-2020  12:20    <DIR>          rap\n",
      "05-06-2018  09:38    <DIR>          Roaming\n",
      "02-01-2020  19:01    <DIR>          Saved Games\n",
      "02-01-2020  19:01    <DIR>          Searches\n",
      "26-12-2019  14:59             1,250 Untitled.ipynb\n",
      "06-01-2020  13:21               555 Untitled1.ipynb\n",
      "07-01-2020  11:16               555 Untitled2.ipynb\n",
      "03-01-2020  15:03    <DIR>          Videos\n",
      "              14 File(s)        474,331 bytes\n",
      "              39 Dir(s)  25,655,853,056 bytes free\n"
     ]
    }
   ],
   "source": [
    "ls"
   ]
  },
  {
   "cell_type": "code",
   "execution_count": null,
   "metadata": {},
   "outputs": [],
   "source": []
  },
  {
   "cell_type": "code",
   "execution_count": 58,
   "metadata": {},
   "outputs": [
    {
     "name": "stdout",
     "output_type": "stream",
     "text": [
      "dhyanahitha org\n",
      "dhyanahitha org\n",
      "\n"
     ]
    }
   ],
   "source": [
    "def readfileData(fileName):\n",
    "    f= open(fileName,'r')\n",
    "    if f.mode=='r':\n",
    "        x = f.read()\n",
    "        print(x)\n",
    "    else:\n",
    "        print(\"error message\")\n",
    "    return\n",
    "readfileData('file2.txt')"
   ]
  },
  {
   "cell_type": "code",
   "execution_count": 60,
   "metadata": {},
   "outputs": [
    {
     "data": {
      "text/plain": [
       "4"
      ]
     },
     "execution_count": 60,
     "metadata": {},
     "output_type": "execute_result"
    }
   ],
   "source": [
    "#word count\n",
    "\n",
    "def wordcount(fileName):\n",
    "    li=[]\n",
    "    f=open(fileName,'r')\n",
    "    if f.mode == 'r':\n",
    "        \n",
    "        x=f.read()\n",
    "        li=x.split()\n",
    "    return len(li)\n",
    "wordcount('file2.txt')"
   ]
  },
  {
   "cell_type": "code",
   "execution_count": 47,
   "metadata": {},
   "outputs": [
    {
     "name": "stdout",
     "output_type": "stream",
     "text": [
      "['rohit', 'sharma', 'hit', 'man']\n",
      "4\n"
     ]
    }
   ],
   "source": [
    "li=[]\n",
    "s=\"rohit sharma hit man\"\n",
    "li=s.split()\n",
    "print(li)-\n",
    "print(len(li))"
   ]
  },
  {
   "cell_type": "code",
   "execution_count": 77,
   "metadata": {},
   "outputs": [
    {
     "data": {
      "text/plain": [
       "0"
      ]
     },
     "execution_count": 77,
     "metadata": {},
     "output_type": "execute_result"
    }
   ],
   "source": [
    "def specificwordcount(fileName,word):\n",
    "    li=[]\n",
    "    f=open(fileName,'r')\n",
    "    if f.mode=='r':\n",
    "        x=f.read()\n",
    "        li=s.split()\n",
    "    cnt=li.count(word)\n",
    "    return cnt\n",
    "specificwordcount('file2.txt','org')"
   ]
  },
  {
   "cell_type": "code",
   "execution_count": 79,
   "metadata": {},
   "outputs": [
    {
     "data": {
      "text/plain": [
       "64"
      ]
     },
     "execution_count": 79,
     "metadata": {},
     "output_type": "execute_result"
    }
   ],
   "source": [
    "#chracter count\n",
    "#find line count\n",
    "#upper case & lower case\n",
    "\n",
    "def charactercount(fileName):\n",
    "    li=[]\n",
    "    f=open(fileName,'r')\n",
    "    if f.mode=='r':\n",
    "        x=f.read()\n",
    "        li=list(x)\n",
    "    return len(li)\n",
    "charactercount('file1.txt')\n",
    "    \n",
    "    "
   ]
  },
  {
   "cell_type": "code",
   "execution_count": 75,
   "metadata": {},
   "outputs": [
    {
     "name": "stdout",
     "output_type": "stream",
     "text": [
      "cgdzklvkjAJNCSKJCNKANCKJCJNBK\n",
      "the upper case letters is:20\n",
      "the lower case letters is:9\n"
     ]
    }
   ],
   "source": [
    "def countupperlowercase(string):\n",
    "    upper=0\n",
    "    lower=0\n",
    "    for i in range(len(string)):\n",
    "           \n",
    "            if ord(string[i])>=65 and ord(string[i])<=90:\n",
    "                upper+=1\n",
    "            elif ord(string[i])>=97 and ord(string[i])<=122:\n",
    "                lower+=1\n",
    "    print('the upper case letters is:%s'%upper)\n",
    "    print('the lower case letters is:%s'%lower)\n",
    "string = input()\n",
    "countupperlowercase(string)"
   ]
  },
  {
   "cell_type": "code",
   "execution_count": null,
   "metadata": {},
   "outputs": [],
   "source": []
  },
  {
   "cell_type": "code",
   "execution_count": null,
   "metadata": {},
   "outputs": [],
   "source": []
  }
 ],
 "metadata": {
  "kernelspec": {
   "display_name": "Python 3",
   "language": "python",
   "name": "python3"
  },
  "language_info": {
   "codemirror_mode": {
    "name": "ipython",
    "version": 3
   },
   "file_extension": ".py",
   "mimetype": "text/x-python",
   "name": "python",
   "nbconvert_exporter": "python",
   "pygments_lexer": "ipython3",
   "version": "3.7.4"
  }
 },
 "nbformat": 4,
 "nbformat_minor": 2
}
