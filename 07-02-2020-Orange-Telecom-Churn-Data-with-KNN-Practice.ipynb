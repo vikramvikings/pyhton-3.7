{
 "cells": [
  {
   "cell_type": "markdown",
   "metadata": {},
   "source": [
    "###### We will be using customer churn data from the telecom industry for this exercises. The data file is called Orange_Telecom_Churn_Data.csv\n",
    "- Read the  data into df\n",
    "- Display the top five rows\n",
    "- Display the last three rows\n",
    "- Check the total number of entries you have\n",
    "- Check the No of features\n",
    "- Print features Names(Column Names)\n",
    "- Print the row indices of the dataframe\n",
    "- Check the dtype of each and every columns\n",
    "- Description for Numerical Column min,max,count,25%,50%,75%,std\n",
    "- Description for the categorical Columns count,top,freq\n",
    "- Missing value count column wise\n",
    "- Total Missing values count in the DataFrame\n",
    "- If there are any missing values replace them.\n",
    "- Check the output for the info function\n",
    "- Access 3,5,7 columns using iloc,loc and without using any of them\n",
    "- How many unique states are there\n",
    "- How many customers are churned\n",
    "- How many are not churned"
   ]
  },
  {
   "cell_type": "code",
   "execution_count": null,
   "metadata": {},
   "outputs": [],
   "source": [
    "# Seperate the features and target"
   ]
  },
  {
   "cell_type": "code",
   "execution_count": null,
   "metadata": {},
   "outputs": [],
   "source": [
    "# get the numerical column names from fetaures\n",
    "# Get the categorical column names from features"
   ]
  },
  {
   "cell_type": "code",
   "execution_count": 1,
   "metadata": {},
   "outputs": [],
   "source": [
    "# Draw the histogram for all the numerical columns\n",
    "# If there are skewed data columns apply np.log or np.log1p and overwrite the columns with results"
   ]
  },
  {
   "cell_type": "markdown",
   "metadata": {},
   "source": [
    "##### 1. Applying KNN with Numerical Data Only"
   ]
  },
  {
   "cell_type": "code",
   "execution_count": null,
   "metadata": {},
   "outputs": [],
   "source": [
    "# Get the numerical columns data only into num_features"
   ]
  },
  {
   "cell_type": "code",
   "execution_count": null,
   "metadata": {},
   "outputs": [],
   "source": [
    "# Split the data num_features and target into 80% for \n",
    "# training 20% for testing and random state 40\n",
    "# store the results in X_train,X_test,y_train,y_test"
   ]
  },
  {
   "cell_type": "code",
   "execution_count": null,
   "metadata": {},
   "outputs": [],
   "source": [
    "# Train the KNN with X_train,y_train"
   ]
  },
  {
   "cell_type": "code",
   "execution_count": null,
   "metadata": {},
   "outputs": [],
   "source": [
    "#predict the output for X_train store it in variable y_out\n",
    "\n",
    "# calculate the accuarcy for y_out,y_train\n"
   ]
  },
  {
   "cell_type": "code",
   "execution_count": null,
   "metadata": {},
   "outputs": [],
   "source": [
    "#predict the output for X_test store it in variable y_pred\n",
    "\n",
    "# calculate the accuarcy for y_pred,y_test\n"
   ]
  },
  {
   "cell_type": "markdown",
   "metadata": {},
   "source": [
    "##### 2. Applying KNN with Numerical scaled Data Only"
   ]
  },
  {
   "cell_type": "code",
   "execution_count": null,
   "metadata": {},
   "outputs": [],
   "source": [
    "# Apply MinMaxSCaler for num_features and store the \n",
    "# result into num_features_sc\n"
   ]
  },
  {
   "cell_type": "code",
   "execution_count": null,
   "metadata": {},
   "outputs": [],
   "source": [
    "# Split the data num_features_sc and target into 80% for \n",
    "# training 20% for testing and random state 40\n",
    "# store the results in X_train_sc,X_test_sc,y_train,y_test"
   ]
  },
  {
   "cell_type": "code",
   "execution_count": null,
   "metadata": {},
   "outputs": [],
   "source": [
    "# Train the KNN with X_train_sc,y_train_sc"
   ]
  },
  {
   "cell_type": "code",
   "execution_count": null,
   "metadata": {},
   "outputs": [],
   "source": [
    "#predict the output for X_train_sc store it in variable y_out\n",
    "\n",
    "# calculate the accuarcy for y_out,y_train"
   ]
  },
  {
   "cell_type": "code",
   "execution_count": null,
   "metadata": {},
   "outputs": [],
   "source": [
    "#predict the output for X_test_sc store it in variable y_pred\n",
    "\n",
    "# calculate the accuarcy for y_pred,y_test\n"
   ]
  },
  {
   "cell_type": "markdown",
   "metadata": {},
   "source": [
    "#### 3.Apply KNN with five numerical columns"
   ]
  },
  {
   "cell_type": "code",
   "execution_count": null,
   "metadata": {},
   "outputs": [],
   "source": [
    "# Choose five columns in features \n",
    "sel_feature_names = # Give selected column names"
   ]
  },
  {
   "cell_type": "code",
   "execution_count": null,
   "metadata": {},
   "outputs": [],
   "source": [
    "# Get the data of the selected columns into selected_features\n"
   ]
  },
  {
   "cell_type": "code",
   "execution_count": null,
   "metadata": {},
   "outputs": [],
   "source": [
    "# Split the data selected_features and target into 80% for \n",
    "# training 20% for testing and random state 40\n",
    "# store the results in X_train_sel,X_test_sel,y_train,y_test"
   ]
  },
  {
   "cell_type": "code",
   "execution_count": null,
   "metadata": {},
   "outputs": [],
   "source": [
    "# Train the KNN with X_train_sel,y_train_sel"
   ]
  },
  {
   "cell_type": "code",
   "execution_count": null,
   "metadata": {},
   "outputs": [],
   "source": [
    "#predict the output for X_train_sel store it in variable y_out\n",
    "\n",
    "# calculate the accuarcy for y_out,y_train"
   ]
  },
  {
   "cell_type": "code",
   "execution_count": null,
   "metadata": {},
   "outputs": [],
   "source": [
    "#predict the output for X_test_sel store it in variable y_pred\n",
    "\n",
    "# calculate the accuarcy for y_pred,y_test\n"
   ]
  },
  {
   "cell_type": "markdown",
   "metadata": {},
   "source": [
    "##### 4.Apply KNN with Total data"
   ]
  },
  {
   "cell_type": "code",
   "execution_count": null,
   "metadata": {},
   "outputs": [],
   "source": [
    "#  create a varible with name full_data with numerical columns data in the features \n",
    "# replaced with scaled values"
   ]
  },
  {
   "cell_type": "markdown",
   "metadata": {},
   "source": [
    "**Note** the full_data should contain same number of columns as features. Where numerical column values are replaced with scaled data"
   ]
  },
  {
   "cell_type": "code",
   "execution_count": null,
   "metadata": {},
   "outputs": [],
   "source": [
    "# Apply pd.get_dummies function for the dataframe full_data and assign the result to full_data"
   ]
  },
  {
   "cell_type": "code",
   "execution_count": null,
   "metadata": {},
   "outputs": [],
   "source": [
    "# Check the number of columns in the full data"
   ]
  },
  {
   "cell_type": "code",
   "execution_count": null,
   "metadata": {},
   "outputs": [],
   "source": [
    "# Split the full_data and target into 80% for \n",
    "# training 20% for testing and random state 40\n",
    "# store the results in full_train,full_test_sel,y_train,y_test"
   ]
  },
  {
   "cell_type": "code",
   "execution_count": null,
   "metadata": {},
   "outputs": [],
   "source": [
    "# Train the KNN with full_train,y_train_sel"
   ]
  },
  {
   "cell_type": "code",
   "execution_count": null,
   "metadata": {},
   "outputs": [],
   "source": [
    "#predict the output for full_train store it in variable y_out\n",
    "\n",
    "# calculate the accuarcy for y_out,y_train"
   ]
  },
  {
   "cell_type": "code",
   "execution_count": null,
   "metadata": {},
   "outputs": [],
   "source": [
    "#predict the output for full_test store it in variable y_pred\n",
    "\n",
    "# calculate the accuarcy for y_pred,y_test\n"
   ]
  },
  {
   "cell_type": "markdown",
   "metadata": {},
   "source": [
    "##### Compare the training and testing scores for the above four cases.\n",
    "1. Applying KNN with Numerical Data Only\n",
    "2. Applying KNN with Numerical scaled Data Only\n",
    "3. Apply KNN with five numerical columns\n",
    "4. Apply KNN with Total data"
   ]
  },
  {
   "cell_type": "code",
   "execution_count": null,
   "metadata": {},
   "outputs": [],
   "source": []
  }
 ],
 "metadata": {
  "kernelspec": {
   "display_name": "Python 3",
   "language": "python",
   "name": "python3"
  },
  "language_info": {
   "codemirror_mode": {
    "name": "ipython",
    "version": 3
   },
   "file_extension": ".py",
   "mimetype": "text/x-python",
   "name": "python",
   "nbconvert_exporter": "python",
   "pygments_lexer": "ipython3",
   "version": "3.7.4"
  }
 },
 "nbformat": 4,
 "nbformat_minor": 2
}
